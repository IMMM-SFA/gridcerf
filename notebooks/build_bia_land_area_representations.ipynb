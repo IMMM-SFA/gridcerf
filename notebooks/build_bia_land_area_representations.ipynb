{
 "cells": [
  {
   "cell_type": "markdown",
   "id": "b9ea1f33-a176-453c-8c48-687bc01cdc05",
   "metadata": {},
   "source": [
    "# Building the Bureau of Indian Affairs (BIA) land area representation suitablity layer for GRIDCERF\n"
   ]
  },
  {
   "cell_type": "markdown",
   "id": "63ca547f-3329-438b-9381-99012d5ce0df",
   "metadata": {},
   "source": [
    "The following code was used to build the Bureau of Indian Affairs (BIA) land area representation suitability layer for GRIDCERF. GRIDCERF does not provide the source data directly due to some license restrictions related for direct redistribution of the unaltered source data.  However, the following details the provenance associated with each source dataset and how they were processed.\n"
   ]
  },
  {
   "cell_type": "markdown",
   "id": "0daf8cf0-1750-4de2-81a9-fb28537959b4",
   "metadata": {},
   "source": [
    "## 1. Setup environment"
   ]
  },
  {
   "cell_type": "markdown",
   "id": "e77827d2-3a35-4ad7-b6f6-f4de358aaa8f",
   "metadata": {},
   "source": [
    "### 1.1 Download GRIDCERF\n"
   ]
  },
  {
   "cell_type": "markdown",
   "id": "a50d6bfa-79f0-400c-90db-a91c1d3d1d82",
   "metadata": {},
   "source": [
    "Download the GRIDCERF package if you have not yet done so from here: https://doi.org/10.57931/2281697. Please extract GRIDCERF inside the data directory of this repository as the paths in this notebook are set to that expectation."
   ]
  },
  {
   "cell_type": "markdown",
   "id": "8d0d1521-6b2f-458b-99b5-ac31609173f3",
   "metadata": {},
   "source": [
    "### 1.2 Import necessary Python packages"
   ]
  },
  {
   "cell_type": "code",
   "execution_count": 1,
   "id": "7efad79a-9633-4e36-aa0f-c86059388116",
   "metadata": {},
   "outputs": [],
   "source": [
    "import os\n",
    "import glob\n",
    "import shutil\n",
    "import tempfile\n",
    "\n",
    "import numpy as np\n",
    "import pandas as pd\n",
    "import geopandas as gpd\n",
    "import rasterio\n",
    "import rasterio.mask\n",
    "from rasterio import features\n",
    "import shapely.speedups\n"
   ]
  },
  {
   "cell_type": "markdown",
   "id": "a77e55ff-be0d-4f14-9e58-a1c418ac4a8b",
   "metadata": {},
   "source": [
    "## 2. Configuration\n"
   ]
  },
  {
   "cell_type": "code",
   "execution_count": 2,
   "id": "6b7d7f0f-aa83-40c7-8934-47d9f9d61a9e",
   "metadata": {},
   "outputs": [],
   "source": [
    "# get the parent directory path to where this notebook is currently stored\n",
    "root_dir = os.path.dirname(os.getcwd())\n",
    "\n",
    "# data directory in repository\n",
    "data_dir = os.path.join(root_dir, \"data\")\n",
    "\n",
    "# GRIDCERF data directory from downloaded archive\n",
    "gridcerf_dir = os.path.join(data_dir, \"gridcerf\")\n",
    "\n",
    "# GRIDCERF reference data directory\n",
    "reference_dir = os.path.join(gridcerf_dir, \"reference\")\n",
    "\n",
    "# GRIDCERF technology specific data directory\n",
    "output_dir = os.path.join(gridcerf_dir, \"technology_specific\")\n",
    "\n",
    "# GRIDCERF source data directory\n",
    "source_dir = os.path.join(gridcerf_dir, \"source\", \"technology_specific\")\n",
    "\n",
    "# template land mask raster\n",
    "template_raster = os.path.join(reference_dir, \"gridcerf_sitingmask.tif\")\n",
    "\n",
    "# raw BIA LAR data\n",
    "input_file = os.path.join(source_dir, \"bia_land-area-representations\", \"BIA_National_LAR.shp\")\n"
   ]
  },
  {
   "cell_type": "markdown",
   "id": "854df231-0360-4ec6-8565-06eb94e38ca1",
   "metadata": {},
   "source": [
    "## 3. Generate common suitability rasters"
   ]
  },
  {
   "cell_type": "markdown",
   "id": "b3902367-e4ee-47c2-981c-54a9fe49df28",
   "metadata": {},
   "source": [
    "### 3.1 Functions to build suitability\n"
   ]
  },
  {
   "cell_type": "code",
   "execution_count": 3,
   "id": "cdcb8e0a-1acd-499e-8192-07a341fdd7bd",
   "metadata": {},
   "outputs": [],
   "source": [
    "def vector_to_raster(template_raster: str, \n",
    "                     gdf: gpd.GeoDataFrame, \n",
    "                     value_field: str, \n",
    "                     output_raster: str,\n",
    "                     all_touched: bool = True):\n",
    "    \"\"\"Convert a vector layer to a raster in the GRIDCERF format.\n",
    "    \n",
    "    :param template_raster:         Full path with file name and extension to the input template \n",
    "                                    raster using the GRIDCERF format.\n",
    "    :type template_raster:          str \n",
    "    \n",
    "    :param gdf:                     Geodataframe for the vector data.\n",
    "    :type gdf:                      gpd.GeoDataFrame\n",
    "    \n",
    "    :param value_field:             Field to use to burn raster value in.\n",
    "    :type value_field:              str\n",
    "    \n",
    "    :param output_raster:           Full path with output name and extension for the output raster.\n",
    "    :type output_raster:            str\n",
    "    \n",
    "    :param all_touched:             If True, all pixels touched by geometries will be burned in. \n",
    "                                    If false, only pixels whose center is within the polygon or that \n",
    "                                    are selected by Bresenham’s line algorithm will be burned in.\n",
    "    :type all_touched:              bool\n",
    "    \"\"\"\n",
    "                     \n",
    "    # open the template raster and extract metadata and land mask\n",
    "    with rasterio.open(template_raster) as template:\n",
    "\n",
    "        metadata = template.meta.copy()\n",
    "\n",
    "        # update raster data type\n",
    "        metadata.update(dtype=np.int16)\n",
    "\n",
    "        # extract land mask\n",
    "        land_mask = template.read(1)\n",
    "        land_mask = np.where(land_mask == 0, np.nan, 1)\n",
    "\n",
    "        # write output raster\n",
    "        with rasterio.open(output_raster, 'w+', **metadata) as out:\n",
    "\n",
    "            out_arr = out.read(1)\n",
    "\n",
    "            # build shapes to rasterize from target geometry and field\n",
    "            shapes = ((geom, value) for geom, value in zip(gdf.geometry, gdf[value_field]))\n",
    "\n",
    "            # burn features\n",
    "            burned = features.rasterize(shapes=shapes, \n",
    "                                        fill=0, \n",
    "                                        out=out_arr, \n",
    "                                        transform=out.transform,\n",
    "                                        all_touched=all_touched)\n",
    "            \n",
    "            burned = np.where(burned == 1, 1, 0).astype(np.float64)\n",
    "            \n",
    "            # apply land mask\n",
    "            burned *= land_mask\n",
    "            \n",
    "            # make nan excluded\n",
    "            burned = np.where(np.isnan(burned), 1, burned)\n",
    "\n",
    "            out.write_band(1, burned.astype(np.int16))\n"
   ]
  },
  {
   "cell_type": "markdown",
   "id": "773ac459-78fe-45c2-a8ba-8da87845a5e6",
   "metadata": {},
   "source": [
    "### 3.2 Set standard raster template"
   ]
  },
  {
   "cell_type": "code",
   "execution_count": 4,
   "id": "766ad27c-9a3f-4b19-a56b-4d1246e1d9cd",
   "metadata": {},
   "outputs": [],
   "source": [
    "# open the template raster and extract metadata and land mask\n",
    "with rasterio.open(template_raster) as template:\n",
    "\n",
    "    metadata = template.meta.copy()\n",
    "\n",
    "    # update raster data type\n",
    "    metadata.update(dtype=np.float64)\n",
    "\n",
    "    # extract land mask\n",
    "    land_mask = template.read(1)\n",
    "    land_mask = np.where(land_mask == 0, np.nan, 1)\n",
    "\n",
    "    # get the template CRS\n",
    "    template_crs = template.crs\n",
    "        "
   ]
  },
  {
   "cell_type": "markdown",
   "id": "63a3bb07-5b95-4587-a839-0ca4ba7820be",
   "metadata": {},
   "source": [
    "### 3.3 Process suitability layer"
   ]
  },
  {
   "cell_type": "markdown",
   "id": "2a547dc3-38ef-487c-b4f1-e0eded4537cc",
   "metadata": {},
   "source": [
    "#### gridcerf_bia_land_area_representations_conus.tif"
   ]
  },
  {
   "cell_type": "markdown",
   "id": "c238b4db-3699-4ead-a3c8-69ff2f8c5080",
   "metadata": {},
   "source": [
    "- **Title**:  Bureau of Indian Affairs (BIA) Land Area Representations\n",
    "- **Description from Source**:  The purpose of the American Indian and Alaska Native Land Area Representation (AIAN-LAR) Geographic Information System (GIS) dataset is to depict the external extent of federal Indian reservations and the external extent of associated land held in “trust” by the United States, “restricted fee” or “mixed ownership” status for federally recognized tribes and individual Indians. This dataset includes other land area types such as Public Domain Allotments, Dependent Indian Communities and Homesteads. This GIS Dataset is prepared strictly for illustrative and reference purposes only and should not be used, and is not intended for legal, survey, engineering or navigation purposes. No warranty is made by the Bureau of Indian Affairs (BIA) for the use of the data for purposes not intended by the BIA. This GIS Dataset may contain errors. There is no impact on the legal status of the land areas depicted herein and no impact on land ownership. No legal inference can or should be made from the information in this GIS Dataset. The GIS Dataset is to be used solely for illustrative, reference and statistical purposes and may be used for government to government Tribal consultation. Reservation boundary data is limited in authority to those areas where there has been settled Congressional definition or final judicial interpretation of the boundary. Absent settled Congressional definition or final judicial interpretation of a reservation boundary, the BIA recommends consultation with the appropriate Tribe and then the BIA to obtain interpretations of the reservation boundary. The land areas and their representations are compilations defined by the official land title records of the Bureau of Indian Affairs (BIA) which include treaties, statutes, Acts of Congress, agreements, executive orders, proclamations, deeds and other land title documents. The trust, restricted, and mixed ownership land area shown here, are suitable only for general spatial reference and do not represent the federal government’s position on the jurisdictional status of Indian country. Ownership and jurisdictional status is subject to change and must be verified with plat books, patents, and deeds in the appropriate federal and state offices. Included in this dataset are the exterior extent of off reservation trust, restricted fee tracts and mixed tracts of land including Public Domain allotments, Dependent Indian Communities, Homesteads and government administered lands and those set aside for schools and dormitories. There are also land areas where there is more than one tribe having an interest in or authority over a tract of land but this information is not specified in the AIAN-LAR dataset. The dataset includes both surface and subsurface tracts of land (tribal and individually held) “off reservation” tracts and not simply off reservation “allotments” as land has in many cases been subsequently acquired in trust. These data are public information and may be used by various organizations, agencies, units of government (i.e., Federal, state, county, and city), and other entities according to the restrictions on appropriate use. It is strongly recommended that these data be acquired directly from the BIA and not indirectly through some other source, which may have altered or integrated the data for another purpose for which they may not have been intended. Integrating land areas into another dataset and attempting to resolve boundary differences between other entities may produce inaccurate results. It is also strongly recommended that careful attention be paid to the content of the metadata file associated with these data. Users are cautioned that digital enlargement of these data to scales greater than those at which they were originally mapped can cause misinterpretation. The BIA AIAN-LAR dataset’s spatial accuracy and attribute information are continuously being updated, improved and is used as the single authoritative land area boundary data for the BIA mission. These data are available through the Bureau of Indian Affairs, Office of Trust Services, Division of Land Titles and Records, Branch of Geospatial Support.\n",
    "- **Source URL**:  https://data.nativeland.info/gl/dataset/bureau-of-indian-affairs-land-area-representations/resource/f83449c2-bdf7-4edd-aa45-759587f3f48f\n",
    "- **Date Accessed**:  8/1/23\n",
    "- **Citation**\n",
    "> Bureau of Indian Affairs. American Indian and Alaskan Native Land Area Representations (LAR). U.S. Department of the Interior Indian Affairs https://biamaps.doi.gov/bogs/datadownload.html (2019).\n"
   ]
  },
  {
   "cell_type": "code",
   "execution_count": 5,
   "id": "8c154d3e-cd09-45f5-960e-2a119b0f0f60",
   "metadata": {},
   "outputs": [
    {
     "data": {
      "image/png": "[encoded data removed]",
      "text/plain": [
       "<Figure size 640x480 with 1 Axes>"
      ]
     },
     "metadata": {},
     "output_type": "display_data"
    }
   ],
   "source": [
    "# read in shapefile\n",
    "gdf = gpd.read_file(input_file)\n",
    "\n",
    "# reproject to GRIDCERF \n",
    "gdf = gdf.to_crs(template_crs)\n",
    "\n",
    "# assign raster value field\n",
    "gdf[\"rval\"] = 1\n",
    "\n",
    "gdf.plot()\n",
    "\n",
    "# output raster name\n",
    "output_raster = os.path.join(output_dir, \"gridcerf_bia_land_area_representations_conus.tif\")\n",
    "\n",
    "# rasterize \n",
    "vector_to_raster(template_raster, \n",
    "                 gdf, \n",
    "                 value_field=\"rval\", \n",
    "                 output_raster=output_raster,\n",
    "                 all_touched=True)\n"
   ]
  }
 ],
 "metadata": {
  "kernelspec": {
   "display_name": "Python 3 (ipykernel)",
   "language": "python",
   "name": "python3"
  },
  "language_info": {
   "codemirror_mode": {
    "name": "ipython",
    "version": 3
   },
   "file_extension": ".py",
   "mimetype": "text/x-python",
   "name": "python",
   "nbconvert_exporter": "python",
   "pygments_lexer": "ipython3",
   "version": "3.11.0"
  }
 },
 "nbformat": 4,
 "nbformat_minor": 5
}
