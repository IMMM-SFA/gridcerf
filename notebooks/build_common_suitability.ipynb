{
 "cells": [
  {
   "cell_type": "markdown",
   "id": "919709ab-8844-469c-b18c-d778faf176d6",
   "metadata": {},
   "source": [
    "# Building common suitablity layers for GRIDCERF\n"
   ]
  },
  {
   "cell_type": "markdown",
   "id": "48ee6088-75bf-4fdb-9d9a-6121b6e1351c",
   "metadata": {},
   "source": [
    "The following code was used to build the common suitability layers for GRIDCERF. GRIDCERF does not provide the source data directly due to some license restrictions related for direct redistribution of the unaltered source data.  However, the following details the provenance associated with each source dataset and how they were processed.\n"
   ]
  },
  {
   "cell_type": "markdown",
   "id": "f402222c-c8cb-4f9b-8655-022697f433ce",
   "metadata": {},
   "source": [
    "## 1. Setup environment"
   ]
  },
  {
   "cell_type": "markdown",
   "id": "15a89c9a-f97e-487d-b149-305245614787",
   "metadata": {},
   "source": [
    "### 1.1 Download GRIDCERF\n"
   ]
  },
  {
   "cell_type": "markdown",
   "id": "8fecce86-7127-4e24-94d9-baf0dad872ff",
   "metadata": {},
   "source": [
    "Download the GRIDCERF package if you have not yet done so from here: https://doi.org/10.5281/zenodo.6601789. Please extract GRIDCERF inside the data directory of this repository as the paths in this notebook are set to that expectation."
   ]
  },
  {
   "cell_type": "markdown",
   "id": "94926617-a339-4316-bed3-71f2fe7d7b8d",
   "metadata": {},
   "source": [
    "### 1.2 Import necessary Python packages"
   ]
  },
  {
   "cell_type": "code",
   "execution_count": 7,
   "id": "b4480f46-0269-407f-9c3b-6a8022a6fbe0",
   "metadata": {},
   "outputs": [],
   "source": [
    "import os\n",
    "import glob\n",
    "import shutil\n",
    "import tempfile\n",
    "\n",
    "import numpy as np\n",
    "import pandas as pd\n",
    "import geopandas as gpd\n",
    "import rasterio\n",
    "import rasterio.mask\n",
    "from rasterio import features\n",
    "import shapely.speedups\n"
   ]
  },
  {
   "cell_type": "markdown",
   "id": "4dffeab3-d40e-44b9-b201-f289d06d8084",
   "metadata": {},
   "source": [
    "## 2. Configuration\n"
   ]
  },
  {
   "cell_type": "code",
   "execution_count": 8,
   "id": "9a671b2a-517d-44ed-8290-f231e9d348d8",
   "metadata": {},
   "outputs": [],
   "source": [
    "# get the parent directory path to where this notebook is currently stored\n",
    "root_dir = os.path.dirname(os.getcwd())\n",
    "\n",
    "# data directory in repository\n",
    "data_dir = os.path.join(root_dir, \"data\")\n",
    "\n",
    "# GRIDCERF data directory from downloaded archive\n",
    "gridcerf_dir = os.path.join(data_dir, \"gridcerf\")\n",
    "\n",
    "# GRIDCERF reference data directory\n",
    "reference_dir = os.path.join(gridcerf_dir, \"reference\")\n",
    "\n",
    "# GRIDCERF common data directory\n",
    "output_dir = os.path.join(gridcerf_dir, \"common\")\n",
    "\n",
    "# GRIDCERF source data directory\n",
    "source_dir = os.path.join(gridcerf_dir, \"source\", \"common\")\n",
    "\n",
    "# template siting mask raster\n",
    "template_raster = os.path.join(reference_dir, \"gridcerf_sitingmask.tif\")\n"
   ]
  },
  {
   "cell_type": "markdown",
   "id": "3be1a962-e013-4103-8b06-70dfc50b3ce6",
   "metadata": {},
   "source": [
    "## 3. Generate common suitability rasters"
   ]
  },
  {
   "cell_type": "markdown",
   "id": "9f1daba6-4037-4b48-ac2a-ce228b785ff0",
   "metadata": {},
   "source": [
    "### 3.1 Functions to build suitability\n"
   ]
  },
  {
   "cell_type": "code",
   "execution_count": 9,
   "id": "574c8a29-d75e-4430-8045-4e05e3eaa4ef",
   "metadata": {},
   "outputs": [],
   "source": [
    "def vector_to_raster(template_raster: str, \n",
    "                     gdf: gpd.GeoDataFrame, \n",
    "                     value_field: str, \n",
    "                     output_raster: str,\n",
    "                     all_touched: bool = True):\n",
    "    \"\"\"Convert a vector layer to a raster in the GRIDCERF format.\n",
    "    \n",
    "    :param template_raster:         Full path with file name and extension to the input template \n",
    "                                    raster using the GRIDCERF format.\n",
    "    :type template_raster:          str \n",
    "    \n",
    "    :param gdf:                     Geodataframe for the vector data.\n",
    "    :type gdf:                      gpd.GeoDataFrame\n",
    "    \n",
    "    :param value_field:             Field to use to burn raster value in.\n",
    "    :type value_field:              str\n",
    "    \n",
    "    :param output_raster:           Full path with output name and extension for the output raster.\n",
    "    :type output_raster:            str\n",
    "    \n",
    "    :param all_touched:             If True, all pixels touched by geometries will be burned in. \n",
    "                                    If false, only pixels whose center is within the polygon or that \n",
    "                                    are selected by Bresenham’s line algorithm will be burned in.\n",
    "    :type all_touched:              bool\n",
    "    \"\"\"\n",
    "                     \n",
    "    # open the template raster and extract metadata and land mask\n",
    "    with rasterio.open(template_raster) as template:\n",
    "\n",
    "        metadata = template.meta.copy()\n",
    "\n",
    "        # update raster data type\n",
    "        metadata.update(dtype=np.int16)\n",
    "\n",
    "        # extract land mask\n",
    "        land_mask = template.read(1)\n",
    "        land_mask = np.where(land_mask == 0, np.nan, 1)\n",
    "\n",
    "        # write output raster\n",
    "        with rasterio.open(output_raster, 'w+', **metadata) as out:\n",
    "\n",
    "            out_arr = out.read(1)\n",
    "\n",
    "            # build shapes to rasterize from target geometry and field\n",
    "            shapes = ((geom, value) for geom, value in zip(gdf.geometry, gdf[value_field]))\n",
    "\n",
    "            # burn features\n",
    "            burned = features.rasterize(shapes=shapes, \n",
    "                                        fill=0, \n",
    "                                        out=out_arr, \n",
    "                                        transform=out.transform,\n",
    "                                        all_touched=all_touched)\n",
    "            \n",
    "            burned = np.where(burned == 1, 1, 0).astype(np.float64)\n",
    "            \n",
    "            # apply land mask\n",
    "            burned *= land_mask\n",
    "            \n",
    "            # make nan excluded\n",
    "            burned = np.where(np.isnan(burned), 1, burned)\n",
    "\n",
    "            out.write_band(1, burned.astype(np.int16))\n"
   ]
  },
  {
   "cell_type": "markdown",
   "id": "b2b3be6b-ce92-4425-8f65-e9961a715242",
   "metadata": {},
   "source": [
    "### 3.2 Set standard raster template"
   ]
  },
  {
   "cell_type": "code",
   "execution_count": 10,
   "id": "db837b48-e28c-4ce9-ac1c-c9c0ac2b6ed8",
   "metadata": {},
   "outputs": [],
   "source": [
    "# open the template raster and extract metadata and land mask\n",
    "with rasterio.open(template_raster) as template:\n",
    "\n",
    "    metadata = template.meta.copy()\n",
    "\n",
    "    # update raster data type\n",
    "    metadata.update(dtype=np.float64)\n",
    "\n",
    "    # extract land mask\n",
    "    land_mask = template.read(1)\n",
    "    land_mask = np.where(land_mask == 0, np.nan, 1)\n",
    "\n",
    "    # get the template CRS\n",
    "    template_crs = template.crs\n",
    "        "
   ]
  },
  {
   "cell_type": "markdown",
   "id": "a92b3cd3-a2bd-4db7-857f-c5f1dbfc952c",
   "metadata": {},
   "source": [
    "### 3.3 Process common layers"
   ]
  },
  {
   "cell_type": "markdown",
   "id": "81373c4e-cc60-4a5c-b86b-06b667d9fff7",
   "metadata": {},
   "source": [
    "#### 3.3.1 Local,State, and BLM Public Land Layers\n",
    "\n",
    "> gridcerf_local_surface_management_agency_areas.tif\n",
    "> \n",
    "> gridcerf_state_surface_management_agency_areas.tif\n",
    "> \n",
    "> gridcerf_blm_surface_management_agency_areas.tif\n",
    "> > \n",
    "> gridcerf_bor_surface_management_agency_areas.tif"
   ]
  },
  {
   "cell_type": "markdown",
   "id": "57f68033-3a34-4b74-acdb-0a7547c7d6a5",
   "metadata": {},
   "source": [
    "- **Title**:  Bureau of Land Management (BLM) National Surface Management Agency (SMA) Area Polygons\n",
    "- **Description from Source**: The purpose of this dataset is to fulfill the public and Government’s need to know what agency is managing Federal land in a given area, and for use by BLM Staff for use in analysis and reports. This dataset is useful as a tool to determine and illustrate the boundaries of a particular Federal agency’s “managing” area and to quantify these areas in terms of geographic acreage. The Surface Management Agency (SMA) Geographic Information System (GIS) dataset depicts Federal land for the United States and classifies this land by its active Federal surface managing agency. The SMA feature class covers the continental United States, Alaska, Hawaii, Puerto Rico, Guam, American Samoa and the Virgin Islands. A Federal SMA agency refers to a Federal agency with administrative jurisdiction over the surface of Federal lands. Jurisdiction over the land is defined when the land is either: Withdrawn by some administrative or legislative action, or Acquired or Exchanged by a Federal Agency. This layer is a dynamic assembly of spatial data layers maintained at various federal and local government offices. The GIS data contained in this dataset represents the polygon features that show the boundaries for Surface Management Agency and the surface extent of each Federal agency’s surface administrative jurisdiction. SMA data depicts current withdrawn areas for a particular agency and (when appropriate) includes land that was acquired or exchanged and is located outside of a withdrawal area for that agency. The SMA data do not illustrate land status ownership pattern boundaries or contain land ownership attribute details. The SMA Withdrawals feature class covers the continental United States, Alaska, Hawaii, Puerto Rico, Guam, American Samoa and the Virgin Islands. A Federal SMA Withdrawal is defined by formal actions that set aside, withhold, or reserve Federal land by statute or administrative order for public purposes. A withdrawal creates a title encumbrance on the land. Withdrawals must accomplish one or more of the following: A. Transfer total or partial jurisdiction of Federal land between Federal agencies. B. Close (segregate) Federal land to operation of all or some of the public land laws and/or mineral laws. C. Dedicate Federal land to a specific public purpose. There are four major categories of formal withdrawals: (1) Administrative, (2) Presidential Proclamations, (3) Congressional, and (4) Federal Power Act (FPA) or Federal Energy Regulatory Commission (FERC) Withdrawals. These SMA Withdrawals will include the present total extent of withdrawn areas rather than all of the individual withdrawal actions that created them over time. A Federal SMA agency refers to a Federal agency with administrative jurisdiction over the surface of Federal lands. Jurisdiction over the land is defined when the land is either: Withdrawn by some administrative or legislative action, or Acquired or Exchanged by a Federal Agency. This layer is a dynamic assembly of spatial data layers maintained at various federal and local government offices. The GIS data contained in this dataset represents the polygon features that show the boundaries for Surface Management Agency and the surface extent of each Federal agency’s surface administrative jurisdiction. SMA data depicts current withdrawn areas for a particular agency and (when appropriate) includes land that was acquired or exchanged and is located outside of a withdrawal area for that agency. The SMA data do not illustrate land status ownership pattern boundaries or contain land ownership attribute details.\n",
    "- **Source URL**:  https://gbp-blm-egis.hub.arcgis.com/datasets/blm-national-sma-surface-management-agency-area-polygons/about\n",
    "- **Date Accessed**:  7/27/2023\n",
    "- **Citation**: \n",
    "> Bureau of Land Management. BLM National Surface Management Agency Area Polygons - National Geospatial Data Asset (NGDA). Landscape Approach Data Portal https://gbp-blm-egis.hub.arcgis.com/datasets/blm-national-sma-surface-management-agency-area-polygons/about (2023).\n",
    "- **Application**: Individual rasters are created for the following layers in the geodatabase: 'STATE', 'LOCAL', 'BLM', 'BOR'. Management areas for other agencies are separately compiled."
   ]
  },
  {
   "cell_type": "code",
   "execution_count": 15,
   "id": "ac575b29-30a2-4eec-93ff-749fc733e328",
   "metadata": {},
   "outputs": [],
   "source": [
    "# list of surface managament layers to use\n",
    "surface_mgmt_list = ['STATE', 'LOCAL', 'BLM', 'BOR']\n",
    "\n",
    "# input data\n",
    "srf_mgmt_dir = os.path.join(source_dir, 'blm_service-management-agency-areas')\n",
    "input_file = os.path.join(srf_mgmt_dir, \"SMA_WM.gdb\")\n",
    "\n",
    "for surface_area in surface_mgmt_list:\n",
    "\n",
    "    # read in shapefile\n",
    "    gdf = gpd.read_file(input_file, layer=f'SurfaceMgtAgy_{surface_area}')\n",
    "    \n",
    "    # reproject to GRIDCERF \n",
    "    gdf = gdf.to_crs(template_crs)\n",
    "    \n",
    "    # assign raster value field\n",
    "    gdf[\"rval\"] = 1\n",
    "\n",
    "    lowercase_name = surface_area.lower()\n",
    "    \n",
    "    # output raster name\n",
    "    output_raster = os.path.join(output_dir, f\"gridcerf_{lowercase_name}_surface_management_agency_areas.tif\")\n",
    "    \n",
    "    # rasterize \n",
    "    vector_to_raster(template_raster, \n",
    "                     gdf, \n",
    "                     value_field=\"rval\", \n",
    "                     output_raster=output_raster,\n",
    "                     all_touched=True)\n"
   ]
  },
  {
   "cell_type": "markdown",
   "id": "02618d79-f61c-4254-8d1b-fcc0b3357029",
   "metadata": {},
   "source": [
    "_______"
   ]
  },
  {
   "cell_type": "markdown",
   "id": "227b3fbb-2256-4274-98ed-282e1b0f18c5",
   "metadata": {},
   "source": [
    "#### 3.3.2. US Department of Defense Layers"
   ]
  },
  {
   "cell_type": "markdown",
   "id": "8c21ec61-96b7-4e9a-a51a-5a880bbf8fe5",
   "metadata": {},
   "source": [
    "> gridcerf_dod_military_installations_conus.tif"
   ]
  },
  {
   "cell_type": "markdown",
   "id": "f54a830e-2ecb-4a6e-8187-ef5e80bbd288",
   "metadata": {},
   "source": [
    "- **Title**:  Military Installations, Ranges, and Training Areas\n",
    "- **Description from Source**: This dataset, released by DoD, contains geographic information for major installations, ranges, and training areas in the United States and its territories. This release integrates site information about DoD installations, training ranges, and land assets in a format which can be immediately put to work in commercial geospatial information systems. Homeland Security/Homeland Defense, law enforcement, and readiness planners will benefit from immediate access to DoD site location data during emergencies. Land use planning and renewable energy planning will also benefit from use of this data. Users are advised that the point and boundary location datasets are intended for planning purposes only, and do not represent the legal or surveyed land parcel boundaries.\n",
    "- **Source URL**:  https://catalog.data.gov/dataset/military-installations-ranges-and-training-areas\n",
    "- **Date Accessed**:  10/9/2023\n",
    "- **Citation**: \n",
    "> US Department of Defense. Military Installations, Ranges, and Training Areas. Data.gov https://catalog.data.gov/dataset/military-installations-ranges-and-training-areas (2023).\n",
    "- **Application**: A GRIRDCERF raster layer is created for combined military installations, ranges, and training areas."
   ]
  },
  {
   "cell_type": "code",
   "execution_count": 11,
   "id": "c31f8842-f159-414c-9374-a3c7b33e484b",
   "metadata": {},
   "outputs": [
    {
     "data": {
      "image/png": "[encoded data removed]",
      "text/plain": [
       "<Figure size 640x480 with 1 Axes>"
      ]
     },
     "metadata": {},
     "output_type": "display_data"
    }
   ],
   "source": [
    "\n",
    "# input data\n",
    "dod_sites_dir = os.path.join(source_dir, 'dod_military_sites')\n",
    "input_file = os.path.join(dod_sites_dir, \"FY21_MIRTA_V3.gdb\")\n",
    "\n",
    "gdf = gpd.read_file(input_file, layer=f'MirtaLocations_A')\n",
    "    \n",
    "# reproject to GRIDCERF \n",
    "gdf = gdf.to_crs(template_crs)\n",
    "    \n",
    "# assign raster value field\n",
    "gdf[\"rval\"] = 1\n",
    "\n",
    "gdf.plot()\n",
    "\n",
    "    \n",
    "# output raster name\n",
    "output_raster = os.path.join(output_dir, f\"gridcerf_dod_military_installations_conus.tif\")\n",
    "    \n",
    "# rasterize \n",
    "vector_to_raster(template_raster, \n",
    "                     gdf, \n",
    "                     value_field=\"rval\", \n",
    "                     output_raster=output_raster,\n",
    "                     all_touched=True)\n"
   ]
  },
  {
   "cell_type": "markdown",
   "id": "faa32368-2a53-422e-a807-b84836803a90",
   "metadata": {},
   "source": [
    "_______"
   ]
  },
  {
   "cell_type": "markdown",
   "id": "2fed003a-b13b-427b-9cd4-f057a6045b4d",
   "metadata": {},
   "source": [
    "#### 3.3.3. Bureau of Land Management Layers"
   ]
  },
  {
   "cell_type": "markdown",
   "id": "f7dab5b0-76c1-4c77-86f4-2d8e76c4e88d",
   "metadata": {},
   "source": [
    "##### National Monuments"
   ]
  },
  {
   "cell_type": "markdown",
   "id": "1336049b-080d-4e5b-8cff-c32908be7e20",
   "metadata": {},
   "source": [
    "> gridcerf_blm_nlcs_national_monument_conus.tif"
   ]
  },
  {
   "cell_type": "markdown",
   "id": "426e672a-93a3-4953-9174-31208f65839a",
   "metadata": {},
   "source": [
    "- **Title**:  BLM Natl NLCS National Monuments National Conservation Areas Polygons\n",
    "- **Description from Source**: This feature class includes Cooperative Management and Protection Areas, Forest Reserves, National Conservation Areas, National Monuments, and Outstanding Natural Areas. Descriptions of each type of polygon found in this feature class can be found on Page 21 of the National Landscape Conservation System (NLCS) Implementation Guidelines (Version 1.1). The Bureau of Land Management's National Conservation Lands include 19 national monuments in nine western states. These national monuments encompass landscapes of tremendous beauty and diversity, ranging from rugged California coastline to vividly-hued desert canyons. The Antiquities Act of 1906 grants the President authority to designate national monuments in order to protect “objects of historic or scientific interest.” National conservation areas (NCAs) and similarly designated lands are designated by Congress to conserve, protect, enhance, and manage public lands for the benefit and enjoyment of present and future generations. The Bureau of Land Management's National Conservation Lands include 16 NCAs and five similarly designated lands in ten states. These lands feature exceptional scientific, cultural, ecological, historical, and recreational values. They differ tremendously in landscape and size, varying from the coastal beauty of California's 18-acre Piedras Blancas Light Station Outstanding Natural Area to the rugged desert vistas of Nevada's 1.2 million acre Black Rock Desert-High Rock Canyon Emigrant Trails NCA.  This polygon feature class represents the spatial extent and boundaries of the BLM National Landscape Conservation System (NLCS) National Monuments, National Conservation Areas and Similar Designations. This dataset is a subset of the official national dataset, containing features and attributes intended for public release and has been optimized for online map service performance. The Implementation Guide represents the official national dataset from which this dataset was derived.\n",
    "- **Source URL**:  https://arcg.is/1u9DvO1\n",
    "- **Date Accessed**:  7/18/23\n",
    "- **Citation**\n",
    "> Bureau of Land Management. BLM National NLCS National Monuments, National Conservation Areas and Similar Designations Polygons. U.S.Department of Interior Bureau of Land Management Geospatial Business Plaform https://gbp-blm-egis.hub.arcgis.com/datasets/BLM-EGIS::blm-natl-nlcs-national-monuments-national-conservation-areas-polygons/about (2023).\n"
   ]
  },
  {
   "cell_type": "code",
   "execution_count": 29,
   "id": "4357e7fe-bc1d-4ffb-b816-19b82f7308c6",
   "metadata": {},
   "outputs": [],
   "source": [
    "# source directory\n",
    "data_dir = os.path.join(source_dir, \"blm_nlcs_national-monuments\")\n",
    "\n",
    "# input data\n",
    "input_file = os.path.join(data_dir, \"BLM_Natl_NLCS_National_Monuments_National_Conservation_Areas_Polygons.shp\")\n",
    "\n",
    "# read in shapefile\n",
    "gdf = gpd.read_file(input_file)\n",
    "\n",
    "# reproject to GRIDCERF \n",
    "gdf = gdf.to_crs(template_crs)\n",
    "\n",
    "# assign raster value field\n",
    "gdf[\"rval\"] = 1\n",
    "\n",
    "# output raster name\n",
    "output_raster = os.path.join(output_dir, \"gridcerf_blm_nlcs_national_monument_conus.tif\")\n",
    "\n",
    "# rasterize \n",
    "vector_to_raster(template_raster, \n",
    "                 gdf, \n",
    "                 value_field=\"rval\", \n",
    "                 output_raster=output_raster,\n",
    "                 all_touched=True)\n"
   ]
  },
  {
   "cell_type": "markdown",
   "id": "76125d21-5857-48c1-ade4-4cc58723fd89",
   "metadata": {},
   "source": [
    "_______"
   ]
  },
  {
   "cell_type": "markdown",
   "id": "1bac14aa-f271-4b22-afaa-89e338226124",
   "metadata": {},
   "source": [
    "##### Outstanding Natural Areas"
   ]
  },
  {
   "cell_type": "markdown",
   "id": "d4289055-af14-4591-91b0-93ea9197976d",
   "metadata": {},
   "source": [
    "> gridcerf_blm_nlcs_outstanding_natural_areas_conus.tif"
   ]
  },
  {
   "cell_type": "markdown",
   "id": "72399a37-3553-463f-87ba-96eb7c3107b4",
   "metadata": {},
   "source": [
    "- **Title**:  BLM NLCS Outstanding Natural Areas\n",
    "- **Description from Source**: Outstanding Natural Areas of the National Landscape Conservation System.  BLM--compiled from data provided by state offices; Modified by The Wilderness Society (TWS) to add URLs for ONA web sites.\n",
    "- **Source URL**:  https://hub.arcgis.com/datasets/Wilderness::nlcs-outstanding-natural-areas/about\n",
    "- **Date Accessed**:  7/18/23\n",
    "- **Citation**\n",
    "> Hartger, P. NLCS Outstanding Natural Areas. ArcGIS Hub https://hub.arcgis.com/datasets/Wilderness::nlcs-outstanding-natural-areas/about (2017).\n"
   ]
  },
  {
   "cell_type": "code",
   "execution_count": 27,
   "id": "25da3442-e1b1-4d54-b9d8-c4a42cbb431e",
   "metadata": {},
   "outputs": [],
   "source": [
    "# source directory\n",
    "data_dir = os.path.join(source_dir, \"blm_nlcs_outstanding-natural-areas\")\n",
    "\n",
    "# input data\n",
    "input_file = os.path.join(data_dir, \"NLCS_Outstanding_Natural_Areas.shp\")\n",
    "\n",
    "# read in shapefile\n",
    "gdf = gpd.read_file(input_file)\n",
    "\n",
    "# reproject to GRIDCERF \n",
    "gdf = gdf.to_crs(template_crs)\n",
    "\n",
    "# assign raster value field\n",
    "gdf[\"rval\"] = 1\n",
    "\n",
    "# output raster name\n",
    "output_raster = os.path.join(output_dir, \"gridcerf_blm_nlcs_outstanding_natural_areas_conus.tif\")\n",
    "\n",
    "# rasterize \n",
    "vector_to_raster(template_raster, \n",
    "                 gdf, \n",
    "                 value_field=\"rval\", \n",
    "                 output_raster=output_raster,\n",
    "                 all_touched=True)\n"
   ]
  },
  {
   "cell_type": "markdown",
   "id": "8e8bcb6e-5209-4d0b-a475-2ced9787ea23",
   "metadata": {},
   "source": [
    "_______"
   ]
  },
  {
   "cell_type": "markdown",
   "id": "7be378ab-891d-47ba-869e-b6e8c75360a8",
   "metadata": {},
   "source": [
    "##### BLM Wilderness Areas"
   ]
  },
  {
   "cell_type": "markdown",
   "id": "0c4a1404-b089-44a6-acda-9bc86dd3244a",
   "metadata": {},
   "source": [
    "> gridcerf_blm_nlcs_wilderness_conus.tif\n"
   ]
  },
  {
   "cell_type": "markdown",
   "id": "1a3f73ec-cd6c-43fb-b2b6-77fa46b64b72",
   "metadata": {},
   "source": [
    "- **Title**:  BLM Natl NLCS Wilderness Areas Polygons\n",
    "- **Description from Source**:  This dataset contains the polygons that define the boundaries of the BLM National Landscape Conservation System (NLCS) Wilderness Areas and Other Related Lands. In June 2000, the BLM responded to growing concern over the loss of open space by creating the National Landscape Conservation System (NLCS). The NLCS brings into a single system some of the BLM's premier designations. The Wilderness Areas, Wilderness Study Areas, and Other Related Lands represent three of these eleven premier designations. By putting these lands into an organized system, the BLM hopes to increase public awareness of these areas' scientific, cultural, educational, ecological and other values. The data standard for these boundaries will assist in the management of all eleven designations within the NLCS. Particularly, NLCS data pertains to the following BLM groups and their purposes: Land Use Planners, GIS Specialists, NLCS team leads, BLM managers, and public stakeholder groups.  Feature Class for the BLM Wilderness Areas and BLM Other Related Lands data covered by the National Landscape Conservation System (NLCS) Data Standard. In particular, this feature class includes the polygon features representing the spatial extent and boundaries of the BLM National Landscape Conservation System (NLCS) Wilderness Areas. A Wilderness is a special place where the earth and its community of life are essentially undisturbed; they retain a primeval character, without permanent improvements and generally appear to have been affected primarily by the forces of nature. In 1964, Congress established the National Wilderness Preservation System and designated the first Wilderness Areas in passing the Wilderness Act. The uniquely American idea of wilderness has become an increasingly significant tool to ensure long-term protection of natural landscapes. Wilderness protects the habitat of numerous wildlife species and serves as a biodiversity bank for many species of plants and animals. Wilderness is also a source of clean water. The Federal Land Policy and Management Act of 1976 directed the Bureau to inventory and study its roadless areas for wilderness characteristics. To be designated as a Wilderness Study Area, an area has to have the following characteristics: Size - roadless areas of at least 5,000 acres of public lands or of a manageable size; Naturalness - generally appears to have been affected primarily by the forces of nature; Opportunities - provides outstanding opportunities for solitude or primitive and unconfined types of recreation. In addition, Wilderness Study Areas often have special qualities such as ecological, geological, educational, historical, scientific and scenic values. BLM National Landscape Conservation System (NLCS) Other Related Lands are lands not in Wilderness or Wilderness Study Areas that have been determined to have wilderness character through inventory or land use planning. These lands fall into one of two categories. The first category are lands with \"wilderness value and characteristics\". These are inventoried areas not in Wilderness or Wilderness Study Areas that have been determined to meet the size, naturalness, and the outstanding solitude and/or the outstanding primitive and unconfined recreation criteria. The second category are \"wilderness characteristic protection areas\". These are former lands with \"wilderness value and characteristics\" where a plan decision has been made to protect them. This dataset is a subset of the official national dataset, containing features and attributes intended for public release and has been optimized for online map service performance. The Implementation Guide represents the official national dataset from which this dataset was derived.\n",
    "- **Source URL**:  https://arcg.is/a01uC\n",
    "- **Date Accessed**:  7/18/23\n",
    "- **Citation**\n",
    "> Bureau of Land Management. BLM National NLCS Wilderness Areas Polygons. U.S.Department of Interior Bureau of Land Management Geospatial Business Plaform https://arcg.is/a01uC (2023).\n"
   ]
  },
  {
   "cell_type": "code",
   "execution_count": 32,
   "id": "1d8ea121-2a2c-4be0-8b1d-194e482f56bc",
   "metadata": {},
   "outputs": [
    {
     "data": {
      "text/plain": [
       "<Axes: >"
      ]
     },
     "execution_count": 32,
     "metadata": {},
     "output_type": "execute_result"
    },
    {
     "data": {
      "image/png": "[encoded data removed]",
      "text/plain": [
       "<Figure size 640x480 with 1 Axes>"
      ]
     },
     "metadata": {},
     "output_type": "display_data"
    }
   ],
   "source": [
    "# source directory\n",
    "data_dir = os.path.join(source_dir, \"blm_nlcs_wilderness-areas\")\n",
    "\n",
    "# input data\n",
    "input_file = os.path.join(data_dir, \"BLM_Natl_NLCS_Wilderness_Areas_Polygons.shp\")\n",
    "\n",
    "# read in shapefile\n",
    "gdf = gpd.read_file(input_file)\n",
    "\n",
    "# reproject to GRIDCERF \n",
    "gdf = gdf.to_crs(template_crs)\n",
    "\n",
    "# assign raster value field\n",
    "gdf[\"rval\"] = 1\n",
    "\n",
    "# output raster name\n",
    "output_raster = os.path.join(output_dir, \"gridcerf_blm_nlcs_wilderness_conus.tif\")\n",
    "\n",
    "# rasterize \n",
    "vector_to_raster(template_raster, \n",
    "                 gdf, \n",
    "                 value_field=\"rval\", \n",
    "                 output_raster=output_raster,\n",
    "                 all_touched=True)\n",
    "\n",
    "gdf.plot()"
   ]
  },
  {
   "cell_type": "markdown",
   "id": "caab3987-19b8-4d5d-85ea-46bf26112c7f",
   "metadata": {},
   "source": [
    "_______"
   ]
  },
  {
   "cell_type": "markdown",
   "id": "e87118aa-0b3f-4099-99ce-2d50c1498e3a",
   "metadata": {},
   "source": [
    "##### Wilderness Study Areas"
   ]
  },
  {
   "cell_type": "markdown",
   "id": "f0133db9-af90-410a-9384-e968c25f0c08",
   "metadata": {},
   "source": [
    "> gridcerf_blm_nlcs_wilderness_study_areas_conus.tif\n"
   ]
  },
  {
   "cell_type": "markdown",
   "id": "c63cd4a6-2ad3-47e9-a5e3-1e8db4b3a226",
   "metadata": {},
   "source": [
    "- **Title**:  BLM Natl NLCS Wilderness Study Areas Polygons\n",
    "- **Description from Source**: This dataset contains the polygons that define the boundaries of the BLM National Landscape Conservation System (NLCS) Wilderness Areas and Other Related Lands. In June 2000, the BLM responded to growing concern over the loss of open space by creating the National Landscape Conservation System (NLCS). The NLCS brings into a single system some of the BLM's premier designations. The Wilderness Areas, Wilderness Study Areas, and Other Related Lands represent three of these eleven premier designations. By putting these lands into an organized system, the BLM hopes to increase public awareness of these areas' scientific, cultural, educational, ecological and other values. The data standard for these boundaries will assist in the management of all eleven designations within the NLCS. Particularly, NLCS data pertains to the following BLM groups and their purposes: Land Use Planners, GIS Specialists, NLCS team leads, BLM managers, and public stakeholder groups.  Feature Class for the BLM Wilderness Areas and BLM Other Related Lands data covered by the National Landscape Conservation System (NLCS) Data Standard. In particular, this feature class includes the polygon features representing the spatial extent and boundaries of the BLM National Landscape Conservation System (NLCS) Wilderness Areas. A Wilderness is a special place where the earth and its community of life are essentially undisturbed; they retain a primeval character, without permanent improvements and generally appear to have been affected primarily by the forces of nature. In 1964, Congress established the National Wilderness Preservation System and designated the first Wilderness Areas in passing the Wilderness Act. The uniquely American idea of wilderness has become an increasingly significant tool to ensure long-term protection of natural landscapes. Wilderness protects the habitat of numerous wildlife species and serves as a biodiversity bank for many species of plants and animals. Wilderness is also a source of clean water. The Federal Land Policy and Management Act of 1976 directed the Bureau to inventory and study its roadless areas for wilderness characteristics. To be designated as a Wilderness Study Area, an area has to have the following characteristics: Size - roadless areas of at least 5,000 acres of public lands or of a manageable size; Naturalness - generally appears to have been affected primarily by the forces of nature; Opportunities - provides outstanding opportunities for solitude or primitive and unconfined types of recreation. In addition, Wilderness Study Areas often have special qualities such as ecological, geological, educational, historical, scientific and scenic values. BLM National Landscape Conservation System (NLCS) Other Related Lands are lands not in Wilderness or Wilderness Study Areas that have been determined to have wilderness character through inventory or land use planning. These lands fall into one of two categories. The first category are lands with \"wilderness value and characteristics\". These are inventoried areas not in Wilderness or Wilderness Study Areas that have been determined to meet the size, naturalness, and the outstanding solitude and/or the outstanding primitive and unconfined recreation criteria. The second category are \"wilderness characteristic protection areas\". These are former lands with \"wilderness value and characteristics\" where a plan decision has been made to protect them. This dataset is a subset of the official national dataset, containing features and attributes intended for public release and has been optimized for online map service performance. The Implementation Guide represents the official national dataset from which this dataset was derived.\n",
    "- **Source URL**:  https://arcg.is/a01uC\n",
    "- **Date Accessed**:  7/18/23\n",
    "- **Citation**\n",
    "> Bureau of Land Management. BLM National NLCS Wilderness Study Areas Polygons. U.S.Department of Interior https://arcg.is/14XPiC (2023).\n"
   ]
  },
  {
   "cell_type": "code",
   "execution_count": 33,
   "id": "bf74f9e0-f9e0-4f23-add5-a23930d2ee36",
   "metadata": {},
   "outputs": [
    {
     "data": {
      "text/plain": [
       "<Axes: >"
      ]
     },
     "execution_count": 33,
     "metadata": {},
     "output_type": "execute_result"
    },
    {
     "data": {
      "image/png": "[encoded data removed]",
      "text/plain": [
       "<Figure size 640x480 with 1 Axes>"
      ]
     },
     "metadata": {},
     "output_type": "display_data"
    }
   ],
   "source": [
    "# source directory\n",
    "data_dir = os.path.join(source_dir, \"blm_nlcs_wilderness-study-areas\")\n",
    "\n",
    "# input data\n",
    "input_file = os.path.join(data_dir, \"BLM_Natl_NLCS_Wilderness_Study_Areas_Polygons.shp\")\n",
    "\n",
    "# read in shapefile\n",
    "gdf = gpd.read_file(input_file)\n",
    "\n",
    "# reproject to GRIDCERF \n",
    "gdf = gdf.to_crs(template_crs)\n",
    "\n",
    "# assign raster value field\n",
    "gdf[\"rval\"] = 1\n",
    "\n",
    "# output raster name\n",
    "output_raster = os.path.join(output_dir, \"gridcerf_blm_nlcs_wilderness_study_areas_conus.tif\")\n",
    "\n",
    "# rasterize \n",
    "vector_to_raster(template_raster, \n",
    "                 gdf, \n",
    "                 value_field=\"rval\", \n",
    "                 output_raster=output_raster,\n",
    "                 all_touched=True)\n",
    "\n",
    "gdf.plot()"
   ]
  },
  {
   "cell_type": "markdown",
   "id": "e64b5687-3505-47d3-90cf-2e8319f5b8d0",
   "metadata": {},
   "source": [
    "_______"
   ]
  },
  {
   "cell_type": "markdown",
   "id": "8234ab1c-558e-41e8-83e3-ff3664ec3136",
   "metadata": {},
   "source": [
    "#### 3.3.4 US Environmental Protection Agency Layers"
   ]
  },
  {
   "cell_type": "markdown",
   "id": "75be2537-1bac-4410-9bdc-06a92809b41d",
   "metadata": {},
   "source": [
    "##### Class 1 Airsheds"
   ]
  },
  {
   "cell_type": "markdown",
   "id": "19413ce7-1a8d-40a0-a565-f407f89d5dc0",
   "metadata": {},
   "source": [
    "> gridcerf_epa_class1_airsheds_conus.tif\n"
   ]
  },
  {
   "cell_type": "markdown",
   "id": "01243cef-7d57-4ae3-8d6d-f68dd7da5e43",
   "metadata": {},
   "source": [
    "- **Title**:  Mandatory Class 1 Federal Areas Web Service\n",
    "- **Description from Source**:  This web service contains the following layers: Mandatory Class 1 Federal Area polygons and Mandatory Class 1 Federal Area labels in the United States. The polygon layer draws at all scales. The labels draw at scales greater than or equal to 1:3 million. Data used to create this web service are available as a separate download at the secondary linkage listed above. Full FGDC metadata are available by clicking the layer name in the web service table of contents and clicking the Full Metadata link in the layer description. This dataset was developed by EPA's Office of Air Quality Planning and Standards (OAQPS) based on features originating from several data sources, including USEPA, USFS, USFWS, NPS and BIA.\n",
    "- **Source URL**:  https://edg.epa.gov/metadata/catalog/search/resource/details.page?uuid=%7BF234E37B-E7CE-4A47-89D6-68399D540576%7D\n",
    "- **Date Accessed**:  7/18/23\n",
    "- **Citation**\n",
    "> United States Environmental Protection Agency. Mandatory Class 1 Federal Areas Web Service. Mandatory Class 1 Federal Areas Web Service https://edg.epa.gov/metadata/catalog/search/resource/details.page?uuid=%7BF234E37B-E7CE-4A47-89D6-68399D540576%7D (2015).\n"
   ]
  },
  {
   "cell_type": "code",
   "execution_count": 34,
   "id": "a2012598-52a7-41e5-bd2f-3dd7335ed526",
   "metadata": {},
   "outputs": [],
   "source": [
    "# source directory\n",
    "data_dir = os.path.join(source_dir, \"epa_class1-airsheds\")\n",
    "\n",
    "# input data\n",
    "input_file = os.path.join(data_dir, \"Class1_FederalAreas.gdb\")\n",
    "\n",
    "# read in shapefile\n",
    "gdf = gpd.read_file(input_file)\n",
    "\n",
    "# reproject to GRIDCERF \n",
    "gdf = gdf.to_crs(template_crs)\n",
    "\n",
    "# assign raster value field\n",
    "gdf[\"rval\"] = 1\n",
    "\n",
    "# output raster name\n",
    "output_raster = os.path.join(output_dir, \"gridcerf_epa_class1_airsheds_conus.tif\")\n",
    "\n",
    "# rasterize \n",
    "vector_to_raster(template_raster, \n",
    "                 gdf, \n",
    "                 value_field=\"rval\", \n",
    "                 output_raster=output_raster,\n",
    "                 all_touched=True)\n"
   ]
  },
  {
   "cell_type": "markdown",
   "id": "e0218208-7978-41d5-804d-e4b218811836",
   "metadata": {},
   "source": [
    "_______"
   ]
  },
  {
   "cell_type": "markdown",
   "id": "60b50b41-78db-4db5-bbcc-f5b6e4f08f31",
   "metadata": {},
   "source": [
    "#### 3.3.5 US Fish and Wildlife Service Layers"
   ]
  },
  {
   "cell_type": "markdown",
   "id": "e3de74f5-5cdb-4eb8-be53-ca7278ebcc87",
   "metadata": {},
   "source": [
    "##### USFS Administrative Areas"
   ]
  },
  {
   "cell_type": "markdown",
   "id": "3d3a9022-d258-4c2c-8262-a4bf8f0a67a9",
   "metadata": {},
   "source": [
    "> gridcerf_usfws_national_realty_tracts_conus.tif"
   ]
  },
  {
   "cell_type": "markdown",
   "id": "e1ef0707-1e04-42d7-9765-808b341c9304",
   "metadata": {},
   "source": [
    "- **Title**:  USFWS National Realty Tracts\n",
    "- **Description from Source**:  This data layer depicts lands and waters administered by the U.S. Fish and Wildlife Service (USFWS) in North America, U.S. Trust Territories and Possessions. It may also include inholdings that are not administered by USFWS. The primary source for this information is the USFWS Realty program.\n",
    "- **Source URL**:  https://ecos.fws.gov/ServCat/Reference/Profile/154057\n",
    "- **Date Accessed**:  7/18/23\n",
    "- **Citation**\n",
    "> U.S. Fish and WIldlife Service. USFWS National Realty Tracts. https://ecos.fws.gov/ServCat/Reference/Profile/154057 (2023).\n"
   ]
  },
  {
   "cell_type": "code",
   "execution_count": 56,
   "id": "c1c9b5b8-bdde-428f-8e99-5e0694f47162",
   "metadata": {},
   "outputs": [],
   "source": [
    "# source directory\n",
    "data_dir = os.path.join(source_dir, \"usfws_national-realty-tracts\")\n",
    "\n",
    "# input data\n",
    "input_file = os.path.join(data_dir, \"FWS_National_Realty_Tracts.shp\")\n",
    "\n",
    "# read in shapefile\n",
    "gdf = gpd.read_file(input_file)\n",
    "\n",
    "# reproject to GRIDCERF \n",
    "gdf = gdf.to_crs(template_crs)\n",
    "\n",
    "# buffer by 1 km (1000 m)\n",
    "gdf[\"geometry\"] = gdf[\"geometry\"].buffer(1000)\n",
    "\n",
    "# assign raster value field\n",
    "gdf[\"rval\"] = 1\n",
    "\n",
    "# output raster name\n",
    "output_raster = os.path.join(output_dir, \"gridcerf_usfws_national_realty_tracts_conus.tif\")\n",
    "\n",
    "# rasterize \n",
    "vector_to_raster(template_raster, \n",
    "                 gdf, \n",
    "                 value_field=\"rval\", \n",
    "                 output_raster=output_raster,\n",
    "                 all_touched=True)\n"
   ]
  },
  {
   "cell_type": "markdown",
   "id": "035a1e81-7ef2-4c63-876b-fd8a1f6de445",
   "metadata": {},
   "source": [
    "___"
   ]
  },
  {
   "cell_type": "markdown",
   "id": "c4e1c3f7-193f-427b-876c-4eead436ce92",
   "metadata": {},
   "source": [
    "##### USFWS Wild & Scenic Rivers"
   ]
  },
  {
   "cell_type": "markdown",
   "id": "045bc658-ff8b-4dd4-9b51-98ce568a8a2c",
   "metadata": {},
   "source": [
    "> gridcerf_usfws_national_wild_scenic_river_system_conus.tif"
   ]
  },
  {
   "cell_type": "markdown",
   "id": "c05bcbb9-95ab-434b-869e-a32eeb0fa3dd",
   "metadata": {},
   "source": [
    "- **Title**:  USFWS - National Wild and Scenic Rivers System\n",
    "- **Description from Source**:  Data was developed to provide a representation of the National Wild and Scenic River system of the continental United States.  Complete representation of National Wild and Scenic River System as of October 20, 2009. Individual Wild and Scenic River segmetns and associated tributaries as complete as transmitted by agency personnel or contractors.\n",
    "- **Source URL**:  https://gem.anl.gov/tool\n",
    "- **Date Accessed**:  7/18/23\n",
    "- **Citation**\n",
    "> U.S. Fish and Wildlife Service. National Wild and Scenic Rivers System. Geospatial Energy Mapper https://data.fs.usda.gov/geodata/edw/edw_resources/shp/S_USA.WildScenicRiver_LN.zip (2014).\n"
   ]
  },
  {
   "cell_type": "markdown",
   "id": "292e7b10-564d-4c8f-904e-4909eb73563c",
   "metadata": {},
   "source": [
    "**NOTE**:  River centerlines are buffered by 1 km"
   ]
  },
  {
   "cell_type": "code",
   "execution_count": 55,
   "id": "8213e108-0426-4afc-a7cc-d7a3f00f5d83",
   "metadata": {},
   "outputs": [],
   "source": [
    "# source directory\n",
    "data_dir = os.path.join(source_dir, \"usfws_wild-scenic-rivers\")\n",
    "\n",
    "# input data\n",
    "input_file = os.path.join(data_dir, \"ez_gis.surface_water_course_centerline_wsr.shp\")\n",
    "\n",
    "# read in shapefile\n",
    "gdf = gpd.read_file(input_file)\n",
    "\n",
    "# reproject to GRIDCERF \n",
    "gdf = gdf.to_crs(template_crs)\n",
    "\n",
    "# buffer river centerlines by 1 km (1000 m)\n",
    "gdf[\"geometry\"] = gdf[\"geometry\"].buffer(1000)\n",
    "\n",
    "# assign raster value field\n",
    "gdf[\"rval\"] = 1\n",
    "\n",
    "# output raster name\n",
    "output_raster = os.path.join(output_dir, \"gridcerf_usfws_national_wild_scenic_river_system_conus.tif\")\n",
    "\n",
    "# rasterize \n",
    "vector_to_raster(template_raster, \n",
    "                 gdf, \n",
    "                 value_field=\"rval\", \n",
    "                 output_raster=output_raster,\n",
    "                 all_touched=True)\n"
   ]
  },
  {
   "cell_type": "markdown",
   "id": "1276b148-ef89-47c3-838d-877ff4503d7b",
   "metadata": {},
   "source": [
    "____"
   ]
  },
  {
   "cell_type": "markdown",
   "id": "a9d5234b-b135-4286-8ee0-6d1ad66a64e6",
   "metadata": {},
   "source": [
    "##### Critical Habitat"
   ]
  },
  {
   "cell_type": "markdown",
   "id": "7c0e93f5-7869-437d-97e0-918506e10dcd",
   "metadata": {},
   "source": [
    "> gridcerf_usfws_critical_habitat_conus.tif"
   ]
  },
  {
   "cell_type": "markdown",
   "id": "a4b25285-5a36-4ebe-8a74-050d3ced4a2d",
   "metadata": {},
   "source": [
    "- **Title**:  USFWS Threatened & Endangered Species Active Critical Habitat Report\n",
    "- **Description from Source**:  When a species is proposed for listing as endangered or threatened under the Endangered Species Act, the U.S. Fish and Wildlife Service must consider whether there are areas of habitat believed to be essential the species’ conservation. Those areas may be proposed for designation as “critical habitat.” Critical habitat is a term defined and used in the Act. It is a specific geographic area(s) that contains features essential for the conservation of a threatened or endangered species and that may require special management and protection. Critical habitat may include an area that is not currently occupied by the species but that will be needed for its recovery. An area is designated as “critical habitat” after the Service publishes a proposed Federal regulation in the Federal Register and receives and considers public comments on the proposal. The final boundaries of the critical habitat are also published in the Federal Register. Critical habitat are areas considered essential for the conservation of a listed species. Federal agencies are required to consult with the U.S. Fish and Wildlife Service on actions they carry out, fund, or authorize to ensure that their actions will not destroy or adversely modify critical habitat. These areas provide notice to the public and land managers of the importance of these areas to the conservation of a listed species. Special protections and/or restrictions are possible in areas where Federal funding, permits, licenses, authorizations, or actions occur or are required.\n",
    "- **Source URL**:  https://ecos.fws.gov/ecp/report/table/critical-habitat.html\n",
    "- **Date Accessed**:  7/18/23\n",
    "- **Citation**\n",
    "> U.S. Fish and Wildlife Service. USFWS Threatened & Endangered Species Active Critical Habitat Report. ECOS Environmental Conservation Online System https://ecos.fws.gov/ecp/report/table/critical-habitat.html (2023)\n"
   ]
  },
  {
   "cell_type": "code",
   "execution_count": 42,
   "id": "56bde876-74bf-41e3-9551-f0bb36fc5bcf",
   "metadata": {},
   "outputs": [
    {
     "data": {
      "text/plain": [
       "<Axes: >"
      ]
     },
     "execution_count": 42,
     "metadata": {},
     "output_type": "execute_result"
    },
    {
     "data": {
      "image/png": "[encoded data removed]",
      "text/plain": [
       "<Figure size 640x480 with 1 Axes>"
      ]
     },
     "metadata": {},
     "output_type": "display_data"
    }
   ],
   "source": [
    "# source directory\n",
    "data_dir = os.path.join(source_dir, \"usfws_critical-habitat\")\n",
    "\n",
    "# input data\n",
    "input_file = os.path.join(data_dir, \"CRITHAB_POLY.shp\")\n",
    "\n",
    "# read in shapefile\n",
    "gdf = gpd.read_file(input_file)\n",
    "\n",
    "# reproject to GRIDCERF \n",
    "gdf = gdf.to_crs(template_crs)\n",
    "\n",
    "# assign raster value field\n",
    "gdf[\"rval\"] = 1\n",
    "\n",
    "# output raster name\n",
    "output_raster = os.path.join(output_dir, \"gridcerf_usfws_critical_habitat_conus.tif\")\n",
    "\n",
    "# rasterize \n",
    "vector_to_raster(template_raster, \n",
    "                 gdf, \n",
    "                 value_field=\"rval\", \n",
    "                 output_raster=output_raster,\n",
    "                 all_touched=True)\n",
    "gdf.plot()"
   ]
  },
  {
   "cell_type": "markdown",
   "id": "72363b34-9471-431b-aed8-9c1fb477df36",
   "metadata": {},
   "source": [
    "_______"
   ]
  },
  {
   "cell_type": "markdown",
   "id": "e5156c0f-1d3e-46e0-a3f5-25a4a73bdf11",
   "metadata": {},
   "source": [
    "##### Special Designation"
   ]
  },
  {
   "cell_type": "markdown",
   "id": "5975d1c0-4791-4f62-a2da-37c348b104fb",
   "metadata": {},
   "source": [
    "> gridcerf_usfws_special_designation_conus.tif"
   ]
  },
  {
   "cell_type": "markdown",
   "id": "e1638830-a6c6-4b6e-96e5-d47f251e0c5b",
   "metadata": {},
   "source": [
    "- **Title**:  U.S. Fish and Wildlife Service (USFWS) - Special Designation\n",
    "- **Description from Source**:  This data layer depicts the Special Designations that have been placed upon the lands and waters administered by the U.S. Fish and Wildlife Service (USFWS) in North America, U.S. Trust Territories and Possessions. The primary source for this information is the USFWS Realty program.  This data layer depicts the Special Designations that have been placed upon the lands and waters administered by the U.S. Fish and Wildlife Service (USFWS) in North America, U.S. Trust Territories and Possessions. These special areas, such as marine monuments, research natural areas, and natural landmarks, are primarily designated by the U.S. Congress. The primary source for this information is the USFWS Realty program.\n",
    "- **Source URL**:  https://arcg.is/1jzb0H\n",
    "- **Date Accessed**:  7/18/23\n",
    "- **Citation**\n",
    "> U.S. Fish and Wildlife. U.S. Fish and Wildlife Special Designation. U.S. Fish and Wildlife https://gis-fws.opendata.arcgis.com/datasets/fws::fws-special-designation/about (2023).\n"
   ]
  },
  {
   "cell_type": "code",
   "execution_count": 43,
   "id": "3e092fe3-7bef-4100-b93e-ca519bb9a4a3",
   "metadata": {},
   "outputs": [],
   "source": [
    "# source directory\n",
    "data_dir = os.path.join(source_dir, \"usfws_special-designation\")\n",
    "\n",
    "# input data\n",
    "input_file = os.path.join(data_dir, \"SpecialDesignation.shp\")\n",
    "\n",
    "# read in shapefile\n",
    "gdf = gpd.read_file(input_file)\n",
    "\n",
    "# reproject to GRIDCERF \n",
    "gdf = gdf.to_crs(template_crs)\n",
    "\n",
    "# assign raster value field\n",
    "gdf[\"rval\"] = 1\n",
    "\n",
    "# output raster name\n",
    "output_raster = os.path.join(output_dir, \"gridcerf_usfws_special_designation_conus.tif\")\n",
    "\n",
    "# rasterize \n",
    "vector_to_raster(template_raster, \n",
    "                 gdf, \n",
    "                 value_field=\"rval\", \n",
    "                 output_raster=output_raster,\n",
    "                 all_touched=True)\n"
   ]
  },
  {
   "cell_type": "markdown",
   "id": "35579905-6f2a-42eb-b547-b4705f4f8329",
   "metadata": {},
   "source": [
    "_______"
   ]
  },
  {
   "cell_type": "markdown",
   "id": "095ef1b6-eb88-4d4e-90c3-cba4a4d9993a",
   "metadata": {},
   "source": [
    "#### 3.3.6 National Land Cover Dataset Layers"
   ]
  },
  {
   "cell_type": "markdown",
   "id": "d6448741-ed8c-4c05-ae71-ee8907b5b379",
   "metadata": {},
   "source": [
    "##### Wetlands"
   ]
  },
  {
   "cell_type": "markdown",
   "id": "d0dd512a-984f-4af5-aab4-df84aa3cfcdb",
   "metadata": {},
   "source": [
    "> gridcerf_nlcd_wetlands_conus.tif"
   ]
  },
  {
   "cell_type": "markdown",
   "id": "36b80c99-4d8f-4f08-a297-8357610b7786",
   "metadata": {},
   "source": [
    "- **Title**:  National Land Cover Dataset (NLCD) - Wetlands\n",
    "- **Description from Source**:  The U.S. Geological Survey (USGS), in partnership with several federal agencies, has developed and released five National Land Cover Database (NLCD) products over the past two decades: NLCD 1992, 2001, 2006, 2011 and 2016. These products provide spatially explicit and reliable information on the Nation’s land cover and land cover change. To continue the legacy of NLCD and further establish a long-term monitoring capability for the Nation’s land resources, the USGS designed a new generation of NLCD products released in 2016. This design continues in 2019 and aims to provide innovative, consistent, and robust methodologies for production of a multi-temporal land cover and land cover change database from 2001 to 2019 at 2–3-year intervals. Comprehensive research was conducted and resulted in processes in streamlined processes for integrating specialized MRLC partner data along with numerous newly available dataset, assembling and preprocessing Landsat imagery and geospatial ancillary datasets; a multi-source integrated training data development and machine learning based land cover classifications; a temporally, spectrally, and spatially integrated land cover change analysis strategy; a hierarchical theme-based post-classification and integration protocol for generating land cover and change products; a continuous fields biophysical parameters modeling method; and an automated operational system for the NLCD 2019 production. These processes resulted in a five percent increase in accuracy from the 2011 product for an overall Level II & I Overall accuracy (OA) 86.4% & 90.6% in the NLCD 2016 release.  (Wickham et. al, “Thematic Accuracy assessment of the NLCD 2016 land cover for the conterminous United States”, Remote Sensing of Environment, volume 257, May 2021, 112357 https://doi.org/10.1016/j.rse.2021.112357 )\n",
    "- **Source URL**:  https://www.mrlc.gov/data/nlcd-2019-land-cover-conus\n",
    "- **Date Accessed**:  7/18/23\n",
    "- **Citation**\n",
    "> Dewitz, J. & U.S. Geological Survey. National Land Cover Database (NLCD) 2019 Products (ver. 2.0, June 2021). Multi-Resoltuion Land Characteristics Consortium https://www.mrlc.gov/data/nlcd-2019-land-cover-conus (2021).\n"
   ]
  },
  {
   "cell_type": "markdown",
   "id": "243044c8-74e9-486f-87a1-4cad24a7d677",
   "metadata": {},
   "source": [
    "We use both wetlands categories:\n",
    "- **Class 90 - Woody Wetlands**: areas where forest or shrubland vegetation accounts for greater than 20% of vegetative cover and the soil or substrate is periodically saturated with or covered with water.\n",
    "- **Class 95 - Emergent Herbaceous Wetlands**: Areas where perennial herbaceous vegetation accounts for greater than 80% of vegetative cover and the soil or substrate is periodically saturated with or covered with water."
   ]
  },
  {
   "cell_type": "markdown",
   "id": "f006d461-ac2f-4f29-a095-6a9e32e8b5b6",
   "metadata": {},
   "source": [
    "**NOTE**:  Due to the large size of the NLCD raster, we conducted the following pre-processing steps in a free and open-source GIS (QGIS; https://www.qgis.org/en/site/forusers/download.html).\n",
    "\n",
    "Here were the steps we conducted from the toolbox:\n",
    "1. Used the SAGA `Resampling` tool to aggregate the NLCD 30m data to GRIDCERF 1km resolution.  We upscaled using the majority setting where the 1km gridcell would take on the majority grid cell value from the finer resoltuion data.  \n",
    "2. Used the `Reclassify by table` tool to set values for wetland classes of 90 and 95 to 1 and all other classes to 0.\n",
    "3. We then used the `Polygonize (raster to vector)` tool to write a polygonize the 0, 1 grid cells to a shapefile.\n",
    "4. Next steps are as follows:"
   ]
  },
  {
   "cell_type": "code",
   "execution_count": 12,
   "id": "55c6ed75-a689-42ab-94ac-eefd7826b370",
   "metadata": {},
   "outputs": [],
   "source": [
    "# source directory\n",
    "data_dir = os.path.join(source_dir, \"usda_nlcd_wetlands\")\n",
    "\n",
    "# input data\n",
    "input_file = os.path.join(data_dir, \"temp_shp_gridcerf_nlcd_wetlands_conus.shp\")\n",
    "\n",
    "# output raster name\n",
    "output_raster = os.path.join(output_dir, \"gridcerf_nlcd_wetlands_conus.tif\")\n"
   ]
  },
  {
   "cell_type": "code",
   "execution_count": 18,
   "id": "38fd099c-a1cc-4ec2-adb0-4ceb5e1171fe",
   "metadata": {},
   "outputs": [
    {
     "data": {
      "text/plain": [
       "<Axes: >"
      ]
     },
     "execution_count": 18,
     "metadata": {},
     "output_type": "execute_result"
    },
    {
     "data": {
      "image/png": "[encoded data removed]",
      "text/plain": [
       "<Figure size 640x480 with 1 Axes>"
      ]
     },
     "metadata": {},
     "output_type": "display_data"
    }
   ],
   "source": [
    "# read in shapefile\n",
    "gdf = gpd.read_file(input_file)\n",
    "\n",
    "# reproject to GRIDCERF \n",
    "gdf = gdf.to_crs(template_crs)\n",
    "\n",
    "# reduce to wetland areas only\n",
    "gdf = gdf[gdf.DN.isin([90,95])]\n",
    "\n",
    "# reset wetland value area to 1\n",
    "gdf['DN'] = 1\n",
    "\n",
    "gdf.plot()"
   ]
  },
  {
   "cell_type": "code",
   "execution_count": 19,
   "id": "d572241f-5d19-47f2-a1a9-75b048e9850f",
   "metadata": {},
   "outputs": [],
   "source": [
    "# rasterize \n",
    "vector_to_raster(template_raster, \n",
    "                 gdf, \n",
    "                 value_field=\"DN\", \n",
    "                 output_raster=output_raster,\n",
    "                 all_touched=True)"
   ]
  },
  {
   "cell_type": "markdown",
   "id": "6236deff-4f0e-4078-8e19-925781caa60e",
   "metadata": {},
   "source": [
    "_______"
   ]
  },
  {
   "cell_type": "markdown",
   "id": "b35d1aed-204e-421e-b562-1f437572e1fa",
   "metadata": {},
   "source": [
    "#### 3.3.7 National Park Service Layers"
   ]
  },
  {
   "cell_type": "markdown",
   "id": "c5311634-2dae-433d-9fcb-0f498841308a",
   "metadata": {},
   "source": [
    "##### NPS Administrative Boundaries"
   ]
  },
  {
   "cell_type": "markdown",
   "id": "a9ceb842-b6a0-4a90-8f5b-b5beeced2647",
   "metadata": {},
   "source": [
    "> gridcerf_nps_administrative_boundaries_conus.tif"
   ]
  },
  {
   "cell_type": "markdown",
   "id": "b2dcb127-2857-47ed-959d-fd47576136af",
   "metadata": {},
   "source": [
    "- **Title**:  National Park Service tract and boundary\n",
    "- **Description from Source**:  This service depicts National Park Service tract and boundary data that was created by the Land Resources Division.  NPS Director's Order #25 states: \"Land status maps will be prepared to identify the ownership of the lands within the authorized boundaries of the park unit. These maps, showing ownership and acreage, are the 'official record' of the acreage of Federal and non-federal lands within the park boundaries. While these maps are the official record of the lands and acreage within the unit's authorized boundaries, they are not of survey quality and not intended to be used for survey purposes.\" As such this data is intended for use as a tool for GIS analysis. It is in no way intended for engineering or legal purposes. The data accuracy is checked against best available sources which may be dated and vary by location. NPS assumes no liability for use of this data. The boundary polygons represent the current legislated boundary of a given NPS unit. NPS does not necessarily have full fee ownership or hold another interest (easement, right of way, etc...) in all parcels contained within this boundary. Equivalently NPS may own or have an interest in parcels outside the legislated boundary of a given unit. In order to obtain complete information about current NPS interests both inside and outside a unit’s legislated boundary tract level polygons are also created by NPS Land Resources Division and should be used in conjunction with this boundary data. To download this data directly from the NPS go to https://irma.nps.gov/App/Portal/Home  Property ownership data is compiled from deeds, plats, surveys, and other source data. These are not engineering quality drawings and should be used for administrative purposes only. The National Park Service (NPS) shall not be held liable for improper or incorrect use of the data described and/or contained herein. These data and related graphics are not legal documents and are not intended to be used as such. The information contained in these data is dynamic and may change over time. The data are not better than the original sources from which they were derived. It is the responsibility of the data user to use the data appropriately and consistent within the limitations of geospatial data in general and these data in particular. The related graphics are intended to aid the data user in acquiring relevant data; it is not appropriate to use the related graphics as data. The National Park Service gives no warranty, expressed or implied, as to the accuracy, reliability, or completeness of these data. It is strongly recommended that these data are directly acquired from an NPS server and not indirectly through other sources which may have changed the data in some way. Although these data have been processed successfully on a computer system at the National Park Service, no warranty expressed or implied is made regarding the utility of the data on another system or for general or scientific purposes, nor shall the act of distribution constitute any such warranty. This disclaimer applies both to individual use of the data and aggregate use with other data. \n",
    "- **Source URL**:  https://public-nps.opendata.arcgis.com/datasets/nps::nps-boundary-4/about\n",
    "- **Date Accessed**:  7/18/23\n",
    "- **Citation**\n",
    "> National Park Service. National Park Service Boundary. National Park Service https://public-nps.opendata.arcgis.com/datasets/nps::nps-boundary-4/about (2023).\n"
   ]
  },
  {
   "cell_type": "code",
   "execution_count": 47,
   "id": "3896ac1c-ebde-489d-9c3f-9750b50e2298",
   "metadata": {},
   "outputs": [],
   "source": [
    "# source directory\n",
    "data_dir = os.path.join(source_dir, \"nps_boundary\")\n",
    "\n",
    "# input data\n",
    "input_file = os.path.join(data_dir, \"NPS_-_Land_Resources_Division_Boundary_and_Tract_Data_Service.shp\")\n",
    "\n",
    "# read in shapefile\n",
    "gdf = gpd.read_file(input_file)\n",
    "\n",
    "# reproject to GRIDCERF \n",
    "gdf = gdf.to_crs(template_crs)\n",
    "\n",
    "# assign raster value field\n",
    "gdf[\"rval\"] = 1\n",
    "\n",
    "# output raster name\n",
    "output_raster = os.path.join(output_dir, \"gridcerf_nps_administrative_boundaries_conus.tif\")\n",
    "\n",
    "# rasterize wg\n",
    "\n",
    "vector_to_raster(template_raster, \n",
    "                 gdf, \n",
    "                 value_field=\"rval\", \n",
    "                 output_raster=output_raster,\n",
    "                 all_touched=True)\n"
   ]
  },
  {
   "cell_type": "markdown",
   "id": "4f6eec17-0a8f-4663-9232-5ac740e0639d",
   "metadata": {},
   "source": [
    "____"
   ]
  },
  {
   "cell_type": "markdown",
   "id": "ec220808-5712-49a2-ab3e-78b01ed6db7c",
   "metadata": {},
   "source": [
    "##### NPS Historic Trails"
   ]
  },
  {
   "cell_type": "markdown",
   "id": "1f2ff21f-d7f8-4f16-af48-3f860bb1db52",
   "metadata": {},
   "source": [
    "> gridcerf_nps_historic_trails_conus.tif"
   ]
  },
  {
   "cell_type": "markdown",
   "id": "ea7937ee-d3bb-4343-ade1-edcb17fa3d90",
   "metadata": {},
   "source": [
    "- **Title**:  National Historic Trails\n",
    "- **Description from Source**:  National Historic Trails in the United States. The data used to create this map is a representation of the trails and in many cases an approximation and may not represent the exact location of the trails. National Historic Trails shown represent Congressionally-designated routes associated with historic trails; they are not fully developed hiking trails and may not represent physical trails. Always consult the official source for the most up-to-date information.\n",
    "- **Source URL**:  https://gem.anl.gov/tool\n",
    "- **Date Accessed**:  7/18/23\n",
    "- **Citation**\n",
    "> National Park Service. National Historic Trails. Geospatial Energy Mapper https://gem.anl.gov/tool (2019).\n"
   ]
  },
  {
   "cell_type": "markdown",
   "id": "d4d13120-947f-486b-9319-c31bb8368592",
   "metadata": {},
   "source": [
    "**NOTE**:  Trail lines are buffered by 1 km"
   ]
  },
  {
   "cell_type": "code",
   "execution_count": 53,
   "id": "3def3ed8-f315-47aa-8f73-af282e6482e3",
   "metadata": {},
   "outputs": [],
   "source": [
    "# source directory\n",
    "data_dir = os.path.join(source_dir, \"nps_historic-trails\")\n",
    "\n",
    "# input data\n",
    "input_file = os.path.join(data_dir, \"ez_gis.recreation_historic_trail_centerline.shp\")\n",
    "\n",
    "# read in shapefile\n",
    "gdf = gpd.read_file(input_file)\n",
    "\n",
    "# reproject to GRIDCERF \n",
    "gdf = gdf.to_crs(template_crs)\n",
    "\n",
    "# buffer trails by 1 km (1000 m)\n",
    "gdf[\"geometry\"] = gdf[\"geometry\"].buffer(1000)\n",
    "\n",
    "# assign raster value field\n",
    "gdf[\"rval\"] = 1\n",
    "\n",
    "# output raster name\n",
    "output_raster = os.path.join(output_dir, \"gridcerf_nps_historic_trails_conus.tif\")\n",
    "\n",
    "# rasterize \n",
    "vector_to_raster(template_raster, \n",
    "                 gdf, \n",
    "                 value_field=\"rval\", \n",
    "                 output_raster=output_raster,\n",
    "                 all_touched=True)\n"
   ]
  },
  {
   "cell_type": "markdown",
   "id": "32119613-4075-4f8f-911d-c1afad7d2a80",
   "metadata": {},
   "source": [
    "____"
   ]
  },
  {
   "cell_type": "markdown",
   "id": "39f69699-38cb-499e-9ed6-f01254871ae7",
   "metadata": {},
   "source": [
    "##### NPS Scenic Trails"
   ]
  },
  {
   "cell_type": "markdown",
   "id": "79345df8-485f-42ca-bbcd-56abc59b5063",
   "metadata": {},
   "source": [
    "> gridcerf_nps_scenic_trails_conus.tif"
   ]
  },
  {
   "cell_type": "markdown",
   "id": "603d5e66-2672-4a94-9101-8efe83325480",
   "metadata": {},
   "source": [
    "- **Title**:  National Scenic Trails\n",
    "- **Description from Source**:  National Scenic Trails in the United States. The data used to create this map is a representation of the trails and in many cases an approximation and may not represent the exact location of the trails. National Scenic Trials shown represent physical hiking trails, however many sections may still be in the design or planning stage and not yet complete. Always consult the official source for the most up-to-date information.\n",
    "- **Source URL**:  https://gem.anl.gov/tool\n",
    "- **Date Accessed**:  7/18/23\n",
    "- **Citation**\n",
    "> National Park Service. National Scenic Trails. Geospatial Energy Mapper https://gem.anl.gov/tool (2019).\n"
   ]
  },
  {
   "cell_type": "markdown",
   "id": "95fb1054-58fd-4bb0-89a5-5e68db775b5c",
   "metadata": {},
   "source": [
    "**NOTE**:  Trail lines are buffered by 1 km"
   ]
  },
  {
   "cell_type": "code",
   "execution_count": 54,
   "id": "ed95e9ff-c32b-457a-85e2-7f142b10ef1b",
   "metadata": {},
   "outputs": [],
   "source": [
    "# source directory\n",
    "data_dir = os.path.join(source_dir, \"nps_scenic-trails\")\n",
    "\n",
    "# input data\n",
    "input_file = os.path.join(data_dir, \"ez_gis.recreation_scenic_trail_centerline.shp\")\n",
    "\n",
    "# read in shapefile\n",
    "gdf = gpd.read_file(input_file)\n",
    "\n",
    "# reproject to GRIDCERF \n",
    "gdf = gdf.to_crs(template_crs)\n",
    "\n",
    "# buffer trails by 1 km (1000 m)\n",
    "gdf[\"geometry\"] = gdf[\"geometry\"].buffer(1000)\n",
    "\n",
    "# assign raster value field\n",
    "gdf[\"rval\"] = 1\n",
    "\n",
    "# output raster name\n",
    "output_raster = os.path.join(output_dir, \"gridcerf_nps_scenic_trails_conus.tif\")\n",
    "\n",
    "# rasterize \n",
    "vector_to_raster(template_raster, \n",
    "                 gdf, \n",
    "                 value_field=\"rval\", \n",
    "                 output_raster=output_raster,\n",
    "                 all_touched=True)\n"
   ]
  },
  {
   "cell_type": "markdown",
   "id": "6e634604-9552-4a47-9405-716925466c4a",
   "metadata": {},
   "source": [
    "_______"
   ]
  },
  {
   "cell_type": "markdown",
   "id": "89301e71-d386-48c2-8951-19f025a27dbb",
   "metadata": {},
   "source": [
    "#### 3.3.8 US Forest Service Layers"
   ]
  },
  {
   "cell_type": "markdown",
   "id": "969bab70-1ae6-43b6-aae9-d49624def789",
   "metadata": {},
   "source": [
    "##### USFS Administrative Boundaries"
   ]
  },
  {
   "cell_type": "markdown",
   "id": "d85cf686-dee7-4d81-b602-51c59e44da42",
   "metadata": {},
   "source": [
    "> gridcerf_usfs_administrative_boundaries_conus.tif"
   ]
  },
  {
   "cell_type": "markdown",
   "id": "1478c779-b637-4c64-92be-19fd22734ebb",
   "metadata": {},
   "source": [
    "- **Title**:  U.S. Forest Service (USFS) Administrative Boundaries\n",
    "- **Description from Source**:  An area encompassing all the National Forest System lands administered by an administrative unit. The area encompasses private lands, other governmental agency lands, and may contain National Forest System lands within the proclaimed boundaries of another administrative unit. All National Forest System lands fall within one and only one Administrative Forest Area.\n",
    "- **Source URL**:  https://data.fs.usda.gov/geodata/edw/datasets.php?dsetCategory=boundaries\n",
    "- **Date Accessed**:  7/18/23\n",
    "- **Citation**\n",
    "> USDA Forest Service. Administrative Forest Boundaries. Download National Datasets https://data.fs.usda.gov/geodata/edw/datasets.php?dsetCategory=boundaries (2015).\n"
   ]
  },
  {
   "cell_type": "code",
   "execution_count": 48,
   "id": "93a51b92-1827-4757-93bd-9268d653ad29",
   "metadata": {},
   "outputs": [],
   "source": [
    "# source directory\n",
    "data_dir = os.path.join(source_dir, \"usfs_administrative-boundaries\")\n",
    "\n",
    "# input data\n",
    "input_file = os.path.join(data_dir, \"S_USA.AdministrativeForest.shp\")\n",
    "\n",
    "# read in shapefile\n",
    "gdf = gpd.read_file(input_file)\n",
    "\n",
    "# reproject to GRIDCERF \n",
    "gdf = gdf.to_crs(template_crs)\n",
    "\n",
    "# assign raster value field\n",
    "gdf[\"rval\"] = 1\n",
    "\n",
    "# output raster name\n",
    "output_raster = os.path.join(output_dir, \"gridcerf_usfs_administrative_boundaries_conus.tif\")\n",
    "\n",
    "# rasterize \n",
    "vector_to_raster(template_raster, \n",
    "                 gdf, \n",
    "                 value_field=\"rval\", \n",
    "                 output_raster=output_raster,\n",
    "                 all_touched=True)\n"
   ]
  },
  {
   "cell_type": "markdown",
   "id": "f491e70f-1a64-4863-93a6-cfb5e1126435",
   "metadata": {},
   "source": [
    "##### USFS Wilderness Areas"
   ]
  },
  {
   "cell_type": "markdown",
   "id": "dc1cb838-b507-4be7-8afe-0475e9a2d9fc",
   "metadata": {},
   "source": [
    "> gridcerf_usfs_wilderness_areas_conus.tif"
   ]
  },
  {
   "cell_type": "markdown",
   "id": "7d148d6d-d053-4eef-90df-db5e954c62a1",
   "metadata": {},
   "source": [
    "- **Title**:  National Wilderness Areas\n",
    "- **Description from Source**:  A boundary depicting an area that has been designated as a National Wilderness in the National Wilderness Preservation System.\n",
    "- **Source URL**:  https://data.fs.usda.gov/geodata/edw/datasets.php?xmlKeyword=Wilderness+areas\n",
    "- **Date Accessed**:  7/28/23\n",
    "- **Citation**\n",
    "> U.S. Forest Service. National Wilderness Areas. Download National Datasets https://data.fs.usda.gov/geodata/edw/datasets.php?xmlKeyword=Wilderness+areas (2023).\n"
   ]
  },
  {
   "cell_type": "code",
   "execution_count": 52,
   "id": "77fc0d50-a19b-4c14-9f5c-3906d221f112",
   "metadata": {},
   "outputs": [],
   "source": [
    "# source directory\n",
    "data_dir = os.path.join(source_dir, \"usfs_wilderness-areas\")\n",
    "\n",
    "# input data\n",
    "input_file = os.path.join(data_dir, \"S_USA.Wilderness.shp\")\n",
    "\n",
    "# read in shapefile\n",
    "gdf = gpd.read_file(input_file)\n",
    "\n",
    "# reproject to GRIDCERF \n",
    "gdf = gdf.to_crs(template_crs)\n",
    "\n",
    "# assign raster value field\n",
    "gdf[\"rval\"] = 1\n",
    "\n",
    "# output raster name\n",
    "output_raster = os.path.join(output_dir, \"gridcerf_usfs_wilderness_areas_conus.tif\")\n",
    "\n",
    "# rasterize \n",
    "vector_to_raster(template_raster, \n",
    "                 gdf, \n",
    "                 value_field=\"rval\", \n",
    "                 output_raster=output_raster,\n",
    "                 all_touched=True)\n"
   ]
  },
  {
   "cell_type": "markdown",
   "id": "1e901d59-d0e3-4fda-b5b3-b7934098feb3",
   "metadata": {},
   "source": [
    "_______"
   ]
  },
  {
   "cell_type": "markdown",
   "id": "156a46fb-5f43-4888-8bab-4025711236fa",
   "metadata": {},
   "source": [
    "#### 3.3.9 US Geological Survey Layers"
   ]
  },
  {
   "cell_type": "markdown",
   "id": "529b67ae-47d5-4314-b74e-6d362880de66",
   "metadata": {},
   "source": [
    "##### Protected Areas Database Class 1 & 2"
   ]
  },
  {
   "cell_type": "markdown",
   "id": "78674bbe-ea4e-4a00-99e1-3cd090575bc9",
   "metadata": {},
   "source": [
    ">gridcerf_usgs_padus_class_1_to_2_conus.tif"
   ]
  },
  {
   "cell_type": "markdown",
   "id": "e022b875-94e0-4d89-8f01-9a46d0e224cf",
   "metadata": {},
   "source": [
    "- **Title**:  Protected Areas Database of the United States (PAD-US) 3.0 (ver. 2.0, March 2023)\n",
    "- **Description from Source**:  The USGS Protected Areas Database of the United States (PAD-US) is the nation's inventory of protected areas, including public land and voluntarily provided private protected areas, identified as an A-16 National Geospatial Data Asset in the Cadastre Theme ( https://ngda-cadastre-geoplatform.hub.arcgis.com/ ). The PAD-US is an ongoing project with several published versions of a spatial database including areas dedicated to the preservation of biological diversity, and other natural (including extraction), recreational, or cultural uses, managed for these purposes through legal or other effective means. The database was originally designed to support biodiversity assessments; however, its scope expanded in recent years to include all open space public and nonprofit lands and waters. Most are public lands owned in fee (the owner of the property has full and irrevocable ownership of the land); however, permanent and long-term easements, leases, agreements, Congressional (e.g. 'Wilderness Area'), Executive (e.g. 'National Monument'), and administrative designations (e.g. 'Area of Critical Environmental Concern') documented in agency management plans are also included. The PAD-US strives to be a complete inventory of U.S. public land and other protected areas, compiling best available data provided by managing agencies and organizations. The PAD-US geodatabase maps and describes areas using thirty-six attributes and five separate feature classes representing the U.S. protected areas network: Fee (ownership parcels), Designation, Easement, Marine, Proclamation and Other Planning Boundaries.  An additional Combined feature class includes the full PAD-US inventory to support data management, queries, web mapping services, and analyses. The Feature Class (FeatClass) field in the Combined layer allows users to extract data types as needed. A Federal Data Reference file geodatabase lookup table (ADUS3_0Combined_Federal_Data_References) facilitates the extraction of authoritative federal data provided or recommended by managing agencies from the Combined PAD-US inventory. This PAD-US Version 3.0 dataset includes a variety of updates from the previous Version 2.1 dataset (USGS, 2020, https://doi.org/10.5066/P92QM3NT ), achieving goals to: 1) Annually update and improve spatial data representing the federal estate for PAD-US applications; 2) Update state and local lands data as state data-steward and PAD-US Team resources allow; and 3) Automate data translation efforts to increase PAD-US update efficiency. The following list summarizes the integration of best available spatial data to ensure public lands and other protected areas from all jurisdictions are represented in the PAD-US (other data were transferred from PAD-US 2.1).  Federal updates - The USGS remains committed to updating federal fee owned lands data and major designation changes in annual PAD-US updates, where authoritative data provided directly by managing agencies are available or alternative data sources are recommended. The following is a list of updates or revisions associated with the federal estate: 1) Major update of the Federal estate (fee ownership parcels, easement interest, and management designations where available), including authoritative data from 8 agencies: Bureau of Land Management (BLM), U.S. Census Bureau (Census Bureau), Department of Defense (DOD), U.S. Fish and Wildlife Service (FWS), National Park Service (NPS), Natural Resources Conservation Service (NRCS), U.S. Forest Service (USFS), and National Oceanic and Atmospheric Administration (NOAA). The federal theme in PAD-US is developed in close collaboration with the Federal Geographic Data Committee (FGDC) Federal Lands Working Group (FLWG, https://ngda-gov-units-geoplatform.hub.arcgis.com/pages/federal-lands-workgroup ). 2) Improved the representation (boundaries and attributes) of the National Park Service, U.S. Forest Service, Bureau of Land Management, and U.S. Fish and Wildlife Service lands, in collaboration with agency data-stewards, in response to feedback from the PAD-US Team and stakeholders. 3) Added a Federal Data Reference file geodatabase lookup table (PADUS3_0Combined_Federal_Data_References) to the PAD-US 3.0 geodatabase to facilitate the extraction (by Data Provider, Dataset Name, and/or Aggregator Source) of authoritative data provided directly (or recommended) by federal managing agencies from the full PAD-US inventory. A summary of the number of records (Frequency) and calculated GIS Acres (vs Documented Acres) associated with features provided by each Aggregator Source is included; however, the number of records may vary from source data as the \"State Name\" standard is applied to national files. The Feature Class (FeatClass) field in the table and geodatabase describe the data type to highlight overlapping features in the full inventory (e.g. Designation features often overlap Fee features) and to assist users in building queries for applications as needed. 4) Scripted the translation of the Department of Defense, Census Bureau, and Natural Resource Conservation Service source data into the PAD-US format to increase update efficiency. 5) Revised conservation measures (GAP Status Code, IUCN Category) to more accurately represent protected and conserved areas. For example, Fish and Wildlife Service (FWS) Waterfowl Production Area Wetland Easements changed from GAP Status Code 2 to 4 as spatial data currently represents the complete parcel (about 10.54 million acres primarily in North Dakota and South Dakota). Only aliquot parts of these parcels are documented under wetland easement (1.64 million acres). These acreages are provided by the U.S. Fish and Wildlife Service and are referenced in the PAD-US geodatabase Easement feature class 'Comments' field. State updates - The USGS is committed to building capacity in the state data-steward network and the PAD-US Team to increase the frequency of state land updates, as resources allow. The USGS supported efforts to significantly increase state inventory completeness with the integration of local parks data in the PAD-US 2.1, and developed a state-to-PAD-US data translation script during PAD-US 3.0 development to pilot in future updates. Additional efforts are in progress to support the technical and organizational strategies needed to increase the frequency of state updates. The PAD-US 3.0 included major updates to the following three states: 1) California - added or updated state, regional, local, and nonprofit lands data from the California Protected Areas Database (CPAD), managed by GreenInfo Network, and integrated conservation and recreation measure changes following review coordinated by the data-steward with state managing agencies. Developed a data translation Python script (see Process Step 2 Source Data Documentation) in collaboration with the data-steward to increase the accuracy and efficiency of future PAD-US updates from CPAD. 2) Virginia - added or updated state, local, and nonprofit protected areas data (and removed legacy data) from the Virginia Conservation Lands Database, provided by the Virginia Department of Conservation and Recreation's Natural Heritage Program, and integrated conservation and recreation measure changes following review by the data-steward. 3) West Virginia - added or updated state, local, and nonprofit protected areas data provided by the West Virginia University, GIS Technical Center. For more information regarding the PAD-US dataset please visit, https://www.usgs.gov/programs/gap-analysis-project/science/protected-areas. For more information about data aggregation please review the PAD-US Data Manual available at https://www.usgs.gov/programs/gap-analysis-project/pad-us-data-manual. A version history of PAD-US updates is summarized below (See https://www.usgs.gov/programs/gap-analysis-project/pad-us-data-history for more information): 1) First posted - April 2009 (Version 1.0 - available from the PAD-US: Team pad-us@usgs.gov). 2) Revised - May 2010 (Version 1.1 - available from the PAD-US: Team pad-us@usgs.gov). 3) Revised - April 2011 (Version 1.2 - available from the PAD-US: Team pad-us@usgs.gov). 4) Revised - November 2012 (Version 1.3) https://doi.org/10.5066/F79Z92XD 5) Revised - May 2016 (Version 1.4) https://doi.org/10.5066/F7G73BSZ 6) Revised - September 2018 (Version 2.0) https://doi.org/10.5066/P955KPLE 7) Revised - September 2020 (Version 2.1) https://doi.org/10.5066/P92QM3NT 8) Revised - January 2022 (Version 3.0) https://doi.org/10.5066/P9Q9LQ4B Comparing protected area trends between PAD-US versions is not recommended without consultation with USGS as many changes reflect improvements to agency and organization GIS systems, or conservation and recreation measure classification, rather than actual changes in protected area acquisition on the ground.\n",
    "- **Source URL**:  https://doi.org/10.5066/P9Q9LQ4B\n",
    "- **Date Accessed**:  7/20/23\n",
    "- **Citation**\n",
    "> U.S. Geological Survey Gap Analysis Project. Protected Areas Database of the United States (PAD-US) 3.0 (ver. 2.0, March 2023). ScienceBase-Catalog https://doi.org/10.5066/P9Q9LQ4B (2023).\n"
   ]
  },
  {
   "cell_type": "markdown",
   "id": "06af98e6-7bb5-459c-9a7b-dec91159c35b",
   "metadata": {},
   "source": [
    "**NOTE**:  GAP status class 1 and 2 are selected for exclusion:\n",
    "1. managed for biodiversity - disturbance events proceed or are mimicked\n",
    "2. managed for biodiversity - disturbance events suppressed\n"
   ]
  },
  {
   "cell_type": "code",
   "execution_count": 136,
   "id": "0a576704-1a10-43bb-a9b0-da2266da1bae",
   "metadata": {},
   "outputs": [],
   "source": [
    "# source directory\n",
    "data_dir = os.path.join(source_dir, \"usgs_padus-3.0\")\n",
    "\n",
    "# CONUS boundary shapefile\n",
    "conus_shpfile = os.path.join(reference_dir, \"gridcerf_conus_boundary.shp\")\n",
    "\n",
    "# read in GRIDCERF boundary shapefile\n",
    "bdf = gpd.read_file(conus_shpfile)\n",
    "\n",
    "# input data\n",
    "input_file = os.path.join(data_dir, \"PADUS3_0Geodatabase/PAD_US3_0.gdb\")\n",
    "\n",
    "# read in shapefile\n",
    "gdf = gpd.read_file(input_file, driver='FileGDB', layer='PADUS3_0Designation')\n",
    "\n",
    "# extract GAP status 1 and 2 pologons\n",
    "gdf = gdf.loc[gdf[\"GAP_Sts\"].isin([\"1\", \"2\"])]\n",
    "\n",
    "# reproject to GRIDCERF \n",
    "gdf = gdf.to_crs(template_crs)\n",
    "\n",
    "# assign raster value field\n",
    "gdf[\"rval\"] = 1\n",
    "\n",
    "\n",
    "# output raster name\n",
    "output_raster = os.path.join(output_dir, f\"gridcerf_usgs_padus_class_1_to_2_conus.tif\")\n",
    "\n",
    "# rasterize \n",
    "vector_to_raster(template_raster, \n",
    "                 gdf, \n",
    "                 value_field=\"rval\", \n",
    "                 output_raster=output_raster,\n",
    "                 all_touched=True)\n"
   ]
  },
  {
   "cell_type": "markdown",
   "id": "754a1457-39ac-4b1d-b95f-7e7d0ee10491",
   "metadata": {},
   "source": [
    "_______"
   ]
  },
  {
   "cell_type": "markdown",
   "id": "8babc5a8-8e63-4b76-993b-eb84a1feec3f",
   "metadata": {},
   "source": [
    "#### 3.3.10 World Database of Protected Areas Layers"
   ]
  },
  {
   "cell_type": "markdown",
   "id": "090c24c8-34ff-4ba6-84c3-9dd6493eb598",
   "metadata": {},
   "source": [
    "_______"
   ]
  },
  {
   "cell_type": "markdown",
   "id": "885d3718-6635-4926-b3c5-ef5326d376a6",
   "metadata": {},
   "source": [
    "##### The Nature Conservency Managed Lands"
   ]
  },
  {
   "cell_type": "markdown",
   "id": "b86d6c5a-24a4-480c-a06e-843e335572b7",
   "metadata": {},
   "source": [
    "> gridcerf_wdpa_tnc_managed_lands_conus.tif"
   ]
  },
  {
   "cell_type": "markdown",
   "id": "4840a905-524e-4523-a24f-252082fd4a3a",
   "metadata": {},
   "source": [
    "- **Title**:  The Nature Conservancy (TNC) Lands\n",
    "- **Description from Source**:  This TNC Lands spatial dataset represents the lands and waters in which The Nature Conservancy (TNC) currently has, or historically had, an interest, legal or otherwise. The system of record for TNC Lands is the Legal Records Management (LRM) system, which is TNC’s database for all TNC land transactions. \n",
    "- **Source URL**:  https://geospatial.tnc.org/datasets/TNC::tnc-lands-north-america/about?layer=0\n",
    "- **Date Accessed**:  7/28/23\n",
    "- **Citation**\n",
    "> The Nature Conservancy. The Nature Conservancy lands. The Nature Conservancy (TNC) Lands https://geospatial.tnc.org/datasets/TNC::tnc-lands-north-america/about?layer=0 (2022).\n"
   ]
  },
  {
   "cell_type": "code",
   "execution_count": 51,
   "id": "75e898bf-73d8-470d-8f8d-e4deb19ce205",
   "metadata": {},
   "outputs": [],
   "source": [
    "# source directory\n",
    "data_dir = os.path.join(source_dir, \"tnc_lands\")\n",
    "\n",
    "# input data\n",
    "input_file = os.path.join(data_dir, \"TNC_Lands_North_America.shp\")\n",
    "\n",
    "# read in shapefile\n",
    "gdf = gpd.read_file(input_file)\n",
    "\n",
    "# reproject to GRIDCERF \n",
    "gdf = gdf.to_crs(template_crs)\n",
    "\n",
    "# assign raster value field\n",
    "gdf[\"rval\"] = 1\n",
    "\n",
    "# output raster name\n",
    "output_raster = os.path.join(output_dir, \"gridcerf_wdpa_tnc_managed_lands_conus.tif\")\n",
    "\n",
    "# rasterize \n",
    "vector_to_raster(template_raster, \n",
    "                 gdf, \n",
    "                 value_field=\"rval\", \n",
    "                 output_raster=output_raster,\n",
    "                 all_touched=True)\n"
   ]
  },
  {
   "cell_type": "markdown",
   "id": "f5c750d5-8ba3-42ce-94e1-314e021b8bd9",
   "metadata": {},
   "source": [
    "#### gridcerf_usgs_wilderness_areas_conus.tif"
   ]
  },
  {
   "cell_type": "markdown",
   "id": "77fedc86-37d0-43c8-9e8e-ec84ace6ab84",
   "metadata": {},
   "source": [
    "- **Title**:  U.S. Geological Survey (USGS) Wilderness Areas in the United States\n",
    "- **Description from Source**:  This data set consists of federally owned land polygon features of the United States.  The data set was created by extracting federal land polygon features from the individual 1:2,000,000-scale State boundary Digital Line Graph (DLG) files produced by the U.S. Geological Survey.  These files were then appended into a single coverage.  This is a revised version of the June 1998 data set.  There may be private inholdings within the boundaries of Federal Lands in this data set.\n",
    "- **Source URL**:  https://www.sciencebase.gov/catalog/item/4fc8f0e4e4b0bffa8ab259e7\n",
    "- **Date Accessed**:  7/18/23\n",
    "- **Citation**\n",
    "> U.S. Geological Survey. Wilderness Areas in the United States. ScienceBase-Catalog https://www.sciencebase.gov/catalog/item/4fc8f0e4e4b0bffa8ab259e7 (2000).\n"
   ]
  },
  {
   "cell_type": "code",
   "execution_count": 6,
   "id": "f10cb00c-5786-4d68-bba3-e1e3dd5b3dc2",
   "metadata": {},
   "outputs": [],
   "source": [
    "# source directory\n",
    "data_dir = os.path.join(source_dir, \"usgs_wilderness_areas\")\n",
    "\n",
    "# input data\n",
    "input_file = os.path.join(data_dir, \"wilderness.shp\")\n",
    "\n",
    "# read in shapefile\n",
    "gdf = gpd.read_file(input_file)\n",
    "\n",
    "# reproject to GRIDCERF \n",
    "gdf = gdf.to_crs(template_crs)\n",
    "\n",
    "# assign raster value field\n",
    "gdf[\"rval\"] = 1\n",
    "\n",
    "# output raster name\n",
    "output_raster = os.path.join(output_dir, \"gridcerf_usgs_wilderness_areas_conus.tif\")\n",
    "\n",
    "# rasterize \n",
    "vector_to_raster(template_raster, \n",
    "                 gdf, \n",
    "                 value_field=\"rval\", \n",
    "                 output_raster=output_raster,\n",
    "                 all_touched=True)\n"
   ]
  },
  {
   "cell_type": "code",
   "execution_count": null,
   "id": "2c1529d5-ca7b-450a-9e6a-91b2ed57ab05",
   "metadata": {},
   "outputs": [],
   "source": []
  },
  {
   "cell_type": "code",
   "execution_count": null,
   "id": "b708b6a4-0a64-4a2e-8ce4-932c24b95458",
   "metadata": {},
   "outputs": [],
   "source": []
  }
 ],
 "metadata": {
  "kernelspec": {
   "display_name": "Python 3 (ipykernel)",
   "language": "python",
   "name": "python3"
  },
  "language_info": {
   "codemirror_mode": {
    "name": "ipython",
    "version": 3
   },
   "file_extension": ".py",
   "mimetype": "text/x-python",
   "name": "python",
   "nbconvert_exporter": "python",
   "pygments_lexer": "ipython3",
   "version": "3.11.0"
  }
 },
 "nbformat": 4,
 "nbformat_minor": 5
}
