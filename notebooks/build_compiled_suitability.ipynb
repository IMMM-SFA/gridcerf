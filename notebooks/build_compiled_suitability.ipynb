{
 "cells": [
  {
   "cell_type": "markdown",
   "id": "070e05f6-2725-4bbf-92b8-b0f73363183b",
   "metadata": {},
   "source": [
    "# Building compiled GRIDCERF technology layers"
   ]
  },
  {
   "cell_type": "markdown",
   "id": "7fd1a02b-fbeb-4c69-9d24-cb07c554db85",
   "metadata": {},
   "source": [
    "## 1. Setup environment"
   ]
  },
  {
   "cell_type": "markdown",
   "id": "1d7a770d-e6fc-4ad1-bf05-edf7fbcf5b90",
   "metadata": {},
   "source": [
    "### 1.1 Download GRIDCERF\n"
   ]
  },
  {
   "cell_type": "markdown",
   "id": "987c06ae-ceb0-4c04-a872-2050bebf786a",
   "metadata": {},
   "source": [
    "Download the GRIDCERF package if you have not yet done so from here: https://doi.org/10.57931/2281697. Please extract GRIDCERF inside the data directory of this repository as the paths in this notebook are set to that expectation."
   ]
  },
  {
   "cell_type": "markdown",
   "id": "1d2a38d8-9e45-4cc6-9675-68293585b0fb",
   "metadata": {},
   "source": [
    "### 1.2 Import necessary Python packages"
   ]
  },
  {
   "cell_type": "code",
   "execution_count": null,
   "id": "06ef75ac-411d-4c85-adad-bfeeea279a3d",
   "metadata": {},
   "outputs": [],
   "source": [
    "import os\n",
    "import glob\n",
    "\n",
    "import yaml\n",
    "import rasterio\n",
    "import numpy as np\n",
    "import pandas as pd\n",
    "import geopandas as gpd\n",
    "import rasterio\n",
    "from tqdm import tqdm"
   ]
  },
  {
   "cell_type": "markdown",
   "id": "12798ee5-03be-4f7f-b12f-b6a06102aa37",
   "metadata": {},
   "source": [
    "## 2. Configuration\n"
   ]
  },
  {
   "cell_type": "code",
   "execution_count": null,
   "id": "c29af8d3-5600-4a34-a29c-d3cc3d7c58ce",
   "metadata": {},
   "outputs": [],
   "source": [
    "# get the parent directory path to where this notebook is currently stored\n",
    "root_dir = os.path.dirname(os.getcwd())\n",
    "\n",
    "# data directory in repository\n",
    "data_dir = os.path.join(root_dir, \"data\")\n",
    "\n",
    "# GRIDCERF data directory from downloaded archive\n",
    "gridcerf_dir = os.path.join(data_dir, \"gridcerf\")\n",
    "\n",
    "# common exclusion layers\n",
    "common_dir = os.path.join(gridcerf_dir, 'common')\n",
    "\n",
    "# directory to write compiled layers to\n",
    "compiled_dir = os.path.join(gridcerf_dir, 'compiled')\n",
    "\n",
    "# directory containing technology specific layers\n",
    "tech_dir = os.path.join(gridcerf_dir, 'technology_specific')\n",
    "\n",
    "# directory containing reference data\n",
    "reference_dir = os.path.join(gridcerf_dir, 'reference')\n",
    "\n",
    "# a file of technologies and their levels with the raster name\n",
    "cerf_technologies_file = os.path.join(reference_dir, \"gridcerf_technologies.txt\")\n",
    "\n",
    "siting_mask_file_0 = os.path.join(reference_dir, \"gridcerf_sitingmask_0-value.tif\") \n",
    "siting_mask_file_1 = os.path.join(reference_dir, \"gridcerf_sitingmask.tif\")\n",
    "\n",
    "# technology layer list\n",
    "layer_list_file = os.path.join(reference_dir, 'technology_layer_list.csv')\n",
    "\n",
    "# compiled layer output dir\n",
    "compiled_output_dir =os.path.join(compiled_dir, 'compiled_technology_layers')\n",
    "\n",
    "# create a list of technology groupings to create composite suitability layers for\n",
    "tech_group_list =  ['geothermal', 'gas', 'nuclear',  'solar', 'solar_csp', 'wind', 'wind_offshore', 'biomass', 'coal', 'refinedliquids']\n",
    "\n",
    "# create a list of years to create composite suitability layers for\n",
    "year_list = list(range(2020, 2100+1, 5))\n",
    "\n",
    "# create a list of socioeconomic pathways to create composite suitability layers for\n",
    "ssp_list = ['ssp2', 'ssp3', 'ssp5']"
   ]
  },
  {
   "cell_type": "markdown",
   "id": "f1b14775-e082-4c4f-8b99-4925de855a69",
   "metadata": {},
   "source": [
    "## 3. Generate compiled technology suitability rasters"
   ]
  },
  {
   "cell_type": "markdown",
   "id": "f0d96177-a415-4eac-85a7-afbec9b74a10",
   "metadata": {},
   "source": [
    "### 3.1 Functions to build suitability\n"
   ]
  },
  {
   "cell_type": "code",
   "execution_count": null,
   "id": "bad129c8-d8e8-4424-bdaa-0699c584cc16",
   "metadata": {},
   "outputs": [],
   "source": [
    "def compile_layer(target_layer, compile_list, siting_mask_file_0, siting_mask_file_1, output_dir):\n",
    "    \"\"\"Compile a suitability layer.\"\"\"\n",
    "    \n",
    "    land_mask_0 = rasterio.open(siting_mask_file_0).read(1)\n",
    "\n",
    "    with rasterio.open(siting_mask_file_1) as template:\n",
    "\n",
    "        metadata = template.meta.copy()\n",
    "\n",
    "        land_mask_1 = template.read(1)\n",
    "\n",
    "        for index, i in enumerate(compile_list):\n",
    "\n",
    "            with rasterio.open(i) as src:\n",
    "\n",
    "                if index == 0:\n",
    "                    arr = src.read(1)\n",
    "                else:\n",
    "                    arr += src.read(1)\n",
    "\n",
    "            # adjust to binary suitability with nodata set to 3 for uint8 storage \n",
    "            arr = np.where(arr == 0, 0, 1)\n",
    "\n",
    "            # apply land mask\n",
    "            arr *= land_mask_1\n",
    "            \n",
    "            arr += land_mask_0\n",
    "\n",
    "            # write compiled file\n",
    "            output_file = os.path.join(output_dir, target_layer)\n",
    "            with rasterio.open(output_file, 'w', **metadata) as dest:\n",
    "\n",
    "                dest.write(arr.astype(np.int16), 1)\n",
    "                \n",
    "                                       \n",
    "    return output_file\n"
   ]
  },
  {
   "cell_type": "markdown",
   "id": "5373ca93-4bdc-49c0-b9fc-173f24a1b763",
   "metadata": {},
   "source": [
    "### 3.2 Process layers"
   ]
  },
  {
   "cell_type": "markdown",
   "id": "46cfc8b0-316c-4034-8b5d-997d23ef4395",
   "metadata": {},
   "source": [
    "## Create a combined common layer"
   ]
  },
  {
   "cell_type": "code",
   "execution_count": null,
   "id": "c2d34897-3475-4ca5-ac94-8eae67a916c6",
   "metadata": {},
   "outputs": [],
   "source": [
    "# get a list of all common layers\n",
    "common_list = []\n",
    "\n",
    "for file in os.listdir(common_dir):\n",
    "    if file.endswith('.tif'):\n",
    "        print(file)\n",
    "        common_list.append(os.path.join(common_dir, file))\n",
    "\n",
    "n_common = len(common_list)\n",
    "print(f\"\\nThere are {n_common} common layers.\") "
   ]
  },
  {
   "cell_type": "code",
   "execution_count": null,
   "id": "18f7e64e-253b-4993-94e0-9382ce898feb",
   "metadata": {},
   "outputs": [],
   "source": [
    "target_layer = 'combined_common.tif'\n",
    "common_output_dir = '../data/gridcerf/compiled/combined_common'\n",
    "compile_layer(target_layer=target_layer, compile_list=common_list, \n",
    "              siting_mask_file_0=siting_mask_file_0, siting_mask_file_1=siting_mask_file_1, output_dir=common_output_dir)"
   ]
  },
  {
   "cell_type": "markdown",
   "id": "099f4aff-75d8-4dd4-980c-4afcfe538726",
   "metadata": {},
   "source": [
    "## Create Composite Technology Suitability Layers"
   ]
  },
  {
   "cell_type": "code",
   "execution_count": null,
   "id": "eb1835a2-784a-4afd-9cbb-0be2912a1514",
   "metadata": {},
   "outputs": [],
   "source": [
    "def create_compile_dict(ssp, year, layer_df_path=layer_list_file,\n",
    "                        layer_type_list=['common', 'reference', 'technology_specific', 'scenario_specific'],\n",
    "                        ssp_year_dependency_list=['gridcerf_densely_populated_50k_per25sqmi',\n",
    "                                                 'gridcerf_densely_populated_50k_per25sqmi_25buffer',\n",
    "                                                 'gridcerf_densely_populated_nuclear']):\n",
    "\n",
    "    \"\"\" Creates a compile dictionary based on input file, ssp_list, and year_list. Can specify\n",
    "    which layers should have specific ssp and year suffixes added on.\"\"\"\n",
    "\n",
    "    compile_dict = {}\n",
    "\n",
    "    # read in layer data file\n",
    "    ssp_year_df = pd.read_csv(layer_df_path)\n",
    "\n",
    "    for tech in ssp_year_df.columns[2:]:\n",
    "\n",
    "        tech_df = ssp_year_df.copy()\n",
    "\n",
    "        for layer_type in layer_type_list:\n",
    "\n",
    "            # reduce to layer type\n",
    "            layer_df = tech_df[tech_df['layer_type'] == layer_type].copy()\n",
    "\n",
    "            if layer_type == 'scenario_specific':\n",
    "                for layer in ssp_year_dependency_list:\n",
    "                    type = layer.split(\"populated_\")[1]\n",
    "                    gridcerf_layer_name = f'gridcerf_population_{ssp}_{year}_1km_conus_{type}'\n",
    "                    layer_df['layer'].replace(layer, gridcerf_layer_name, inplace=True)\n",
    "            else:\n",
    "                pass\n",
    "\n",
    "            # collect tech_group\n",
    "            tech_group = tech.split(\"_\")[1]\n",
    "            \n",
    "            if tech.split(\"_\")[2] in ['csp', 'offshore']:\n",
    "                tech_group = tech.split(\"_\")[1] + \"_\" + tech.split(\"_\")[2]\n",
    "            else:\n",
    "                tech_group = tech.split(\"_\")[1]\n",
    "                \n",
    "            # collect layers\n",
    "            layer_df = layer_df[layer_df[tech] == 1]\n",
    "\n",
    "            layer_compile_list = layer_df['layer'].to_list()\n",
    "\n",
    "\n",
    "            if compile_dict.get(ssp) is None:\n",
    "                compile_dict.update({ssp: {year: {tech_group: {tech: {layer_type: layer_compile_list}}}}})\n",
    "\n",
    "            elif compile_dict[ssp].get(year) is None:\n",
    "                compile_dict[ssp].update({year: {tech_group: {tech: {layer_type: layer_compile_list}}}})\n",
    "\n",
    "            elif compile_dict[ssp][year].get(tech_group) is None:\n",
    "                compile_dict[ssp][year].update({tech_group: {tech: {layer_type: layer_compile_list}}})\n",
    "\n",
    "            elif compile_dict[ssp][year][tech_group].get(tech) is None:\n",
    "                compile_dict[ssp][year][tech_group].update({tech: {layer_type: layer_compile_list}})\n",
    "\n",
    "            else:\n",
    "                compile_dict[ssp][year][tech_group][tech].update({layer_type: layer_compile_list})\n",
    "\n",
    "    return compile_dict\n",
    "\n",
    "\n",
    "def compile_layer(target_layer, compile_list, siting_mask_file_0, siting_mask_file_1, output_dir):\n",
    "    \"\"\"Compile a suitability layer.\"\"\"\n",
    "\n",
    "    land_mask_0 = rasterio.open(siting_mask_file_0).read(1)\n",
    "\n",
    "    with rasterio.open(siting_mask_file_1) as template:\n",
    "\n",
    "        metadata = template.meta.copy()\n",
    "\n",
    "        land_mask_1 = template.read(1)\n",
    "\n",
    "        for index, i in enumerate(compile_list):\n",
    "\n",
    "            with rasterio.open(i) as src:\n",
    "\n",
    "                if index == 0:\n",
    "                    arr = src.read(1).astype(np.int64)\n",
    "                else:\n",
    "                    arr += src.read(1).astype(np.int64)\n",
    "\n",
    "            # adjust to binary suitability with nodata set to 3 for uint8 storage\n",
    "            arr = np.where(arr == 0, 0, 1)\n",
    "\n",
    "            # apply land mask\n",
    "            arr *= land_mask_1\n",
    "\n",
    "            arr += land_mask_0\n",
    "\n",
    "            # write compiled file\n",
    "            output_file = os.path.join(output_dir, target_layer)\n",
    "            with rasterio.open(output_file, 'w', **metadata) as dest:\n",
    "\n",
    "                dest.write(arr.astype(np.int16), 1)\n",
    "\n",
    "\n",
    "    return output_file\n",
    "\n",
    "def compile_techs(year, ssp_list, tech_group_list):\n",
    "\n",
    "    # create folders\n",
    "    for ssp in ssp_list:\n",
    "\n",
    "        for technology_group in tech_group_list:\n",
    "            print(ssp, year, technology_group)\n",
    "\n",
    "            # create compile dictionary\n",
    "            compile_dict = create_compile_dict(ssp=ssp, year=year)\n",
    "\n",
    "            # create output folders\n",
    "            ssp_folder_path = os.path.join(compiled_output_dir, ssp)\n",
    "            if os.path.exists(ssp_folder_path):\n",
    "                pass\n",
    "            else:\n",
    "                os.mkdir(ssp_folder_path)\n",
    "\n",
    "            year_folder_path = os.path.join(ssp_folder_path, str(year))\n",
    "            if os.path.exists(year_folder_path):\n",
    "                pass\n",
    "            else:\n",
    "                os.mkdir(year_folder_path)\n",
    "\n",
    "\n",
    "            techgroup_folder_path = os.path.join(year_folder_path, technology_group)\n",
    "            if os.path.exists(techgroup_folder_path):\n",
    "                pass\n",
    "            else:\n",
    "                os.mkdir(techgroup_folder_path)\n",
    "\n",
    "            for technology in compile_dict[ssp][year][technology_group]:\n",
    "                print(f'Compiling {technology}')\n",
    "                compile_list = []\n",
    "                for layer_type in compile_dict[ssp][year][technology_group][technology]:\n",
    "                    for layer in compile_dict[ssp][year][technology_group][technology][layer_type]:\n",
    "\n",
    "                        layer_path = os.path.join(gridcerf_dir, layer_type, f'{layer}.tif')\n",
    "                        compile_list.append(layer_path)\n",
    "\n",
    "                compile_layer(target_layer=technology,\n",
    "                                       compile_list=compile_list,\n",
    "                                       siting_mask_file_0=siting_mask_file_0,\n",
    "                                       siting_mask_file_1=siting_mask_file_1,\n",
    "                                       output_dir=techgroup_folder_path)\n",
    "\n",
    "    return technology\n"
   ]
  },
  {
   "cell_type": "code",
   "execution_count": null,
   "id": "4ac8c358-f6ef-4908-9391-bcfb60345e6c",
   "metadata": {
    "scrolled": true
   },
   "outputs": [],
   "source": [
    "%%time\n",
    "for year in tqdm(year_list):\n",
    "    compile_techs(year=year, ssp_list=ssp_list, tech_group_list=tech_group_list)"
   ]
  }
 ],
 "metadata": {
  "kernelspec": {
   "display_name": "Python 3 (ipykernel)",
   "language": "python",
   "name": "python3"
  },
  "language_info": {
   "codemirror_mode": {
    "name": "ipython",
    "version": 3
   },
   "file_extension": ".py",
   "mimetype": "text/x-python",
   "name": "python",
   "nbconvert_exporter": "python",
   "pygments_lexer": "ipython3",
   "version": "3.11.0"
  }
 },
 "nbformat": 4,
 "nbformat_minor": 5
}
