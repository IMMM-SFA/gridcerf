{
 "cells": [
  {
   "cell_type": "markdown",
   "id": "86e1044b-e63f-4d0d-855c-b68c28c2e63e",
   "metadata": {},
   "source": [
    "# Build geothermal resource potential suitablity layers for GRIDCERF\n"
   ]
  },
  {
   "cell_type": "markdown",
   "id": "c5c9ff34-eb69-45ad-ad4c-92d4953da1ea",
   "metadata": {},
   "source": [
    "The following code was used to build the geothermal resource potential suitability layers for GRIDCERF. GRIDCERF does not provide the source data directly due to some license restrictions related for direct redistribution of the unaltered source data.  However, the following details the provenance associated with each source dataset and how they were processed."
   ]
  },
  {
   "cell_type": "markdown",
   "id": "76e9318f-6812-4c76-9708-34881a59e8a1",
   "metadata": {},
   "source": [
    "## 1. Setup environment"
   ]
  },
  {
   "cell_type": "markdown",
   "id": "d6284f03-88a7-45cf-b051-88b970267916",
   "metadata": {},
   "source": [
    "### 1.1 Download GRIDCERF\n",
    "\n",
    "Download the GRIDCERF package if you have not yet done so from here:  https://doi.org/10.5281/zenodo.6601789.  Please extract GRIDCERF inside the `data` directory of this repository as the paths in this notebook are set to that expectation.\n"
   ]
  },
  {
   "cell_type": "markdown",
   "id": "bd8f6891-790e-4286-affd-e0580994b883",
   "metadata": {},
   "source": [
    "### 1.2 Data description\n"
   ]
  },
  {
   "cell_type": "markdown",
   "id": "95b71242-2b5b-4d8d-9383-47276dbd5cfd",
   "metadata": {},
   "source": [
    "- **Title**:  Geothermal Prospector: 500m Estimated Temperature\n",
    "- **Description from Source**: This data shows an estimate of shallow, low temperature geothermal resources of the United States at 500m.\n",
    "- **Source URL**:  https://geodata.bts.gov/datasets/usdot::aviation-facilities/explore\n",
    "- **Date Accessed**:  9/26/23\n",
    "- **Citation**\n",
    "> National Renewable Energy Laboratory, 2022. Geothermal Prospector: 500m Estimated Temperature. NREL, Golden, CO, https://gds-files.nrelcloud.org/archive/geothermal-prospector.zip.\n",
    "\n",
    "______\n",
    "- **Title**:  Geothermal Prospector: 1000m Estimated Temperature\n",
    "- **Description from Source**: This data shows an estimate of shallow, low temperature geothermal resources of the United States at 1000m.\n",
    "- **Source URL**:  https://geodata.bts.gov/datasets/usdot::aviation-facilities/explore\n",
    "- **Date Accessed**:  9/26/23\n",
    "- **Citation**\n",
    "> National Renewable Energy Laboratory, 2022. Geothermal Prospector: 1000m Estimated Temperature. NREL, Golden, CO, https://gds-files.nrelcloud.org/archive/geothermal-prospector.zip.\n",
    "______\n",
    "- **Title**:  Geothermal Prospector: 1500m Estimated Temperature\n",
    "- **Description from Source**: This data shows an estimate of shallow, low temperature geothermal resources of the United States at 1500m.\n",
    "- **Source URL**:  https://geodata.bts.gov/datasets/usdot::aviation-facilities/explore\n",
    "- **Date Accessed**:  9/26/23\n",
    "- **Citation**\n",
    "> National Renewable Energy Laboratory, 2022. Geothermal Prospector: 1500m Estimated Temperature. NREL, Golden, CO, https://gds-files.nrelcloud.org/archive/geothermal-prospector.zip.\n",
    "______\n",
    "- **Title**:  Geothermal Prospector: 2000m Estimated Temperature\n",
    "- **Description from Source**: This data shows an estimate of shallow, low temperature geothermal resources of the United States at 2000m.\n",
    "- **Source URL**:  https://geodata.bts.gov/datasets/usdot::aviation-facilities/explore\n",
    "- **Date Accessed**:  9/26/23\n",
    "- **Citation**\n",
    "> National Renewable Energy Laboratory, 2022. Geothermal Prospector: 2000m Estimated Temperature. NREL, Golden, CO, https://gds-files.nrelcloud.org/archive/geothermal-prospector.zip.\n",
    "______\n",
    "- **Title**:  Geothermal Prospector: 2500m Estimated Temperature\n",
    "- **Description from Source**: This data shows an estimate of shallow, low temperature geothermal resources of the United States at 2500m.\n",
    "- **Source URL**:  https://geodata.bts.gov/datasets/usdot::aviation-facilities/explore\n",
    "- **Date Accessed**:  9/26/23\n",
    "- **Citation**\n",
    "> National Renewable Energy Laboratory, 2022. Geothermal Prospector: 2500m Estimated Temperature. NREL, Golden, CO, https://gds-files.nrelcloud.org/archive/geothermal-prospector.zip.\n",
    "______\n",
    "- **Title**:  Geothermal Prospector: 3000m Estimated Temperature\n",
    "- **Description from Source**: This data shows an estimate of shallow, low temperature geothermal resources of the United States at 3000m.\n",
    "- **Source URL**:  https://geodata.bts.gov/datasets/usdot::aviation-facilities/explore\n",
    "- **Date Accessed**:  9/26/23\n",
    "- **Citation**\n",
    "> National Renewable Energy Laboratory, 2022. Geothermal Prospector: 3000m Estimated Temperature. NREL, Golden, CO, https://gds-files.nrelcloud.org/archive/geothermal-prospector.zip.\n",
    "\n",
    "______\n",
    "______\n",
    "\n",
    "\n",
    "**Application**: Enhanced Geothermal Systems (EGS) require high temperatures (greater than or equal to 150C, with >200C preferred). The temperatures at various depths are used to create composite suitability layers where all areas that are capable of reaching these temperatures are included. For example, all spatial area, regardless of depth, that is greater than or equal to 150C is included in the 150C resource potential layer. A secondary layer is created for 200C. See https://www.energy.gov/sites/default/files/2023-01/enhanced-geothermal-shot-faq_012023.pdf for more information on EGS.\n"
   ]
  },
  {
   "cell_type": "markdown",
   "id": "5f5213ea-13b8-4cf8-8b34-a034ea7cb553",
   "metadata": {},
   "source": [
    "### 1.3 Import modules\n"
   ]
  },
  {
   "cell_type": "code",
   "execution_count": 10,
   "id": "d5b1e720-9f35-42d6-8a4b-5de6629762e1",
   "metadata": {},
   "outputs": [],
   "source": [
    "import os\n",
    "\n",
    "import pandas as pd\n",
    "import geopandas as gpd\n",
    "import numpy as np\n",
    "import rasterio\n",
    "from rasterio import features"
   ]
  },
  {
   "cell_type": "markdown",
   "id": "18a8486b-7e15-47e9-8be8-99f4225cad04",
   "metadata": {},
   "source": [
    "## 2. Configuration\n"
   ]
  },
  {
   "cell_type": "code",
   "execution_count": 6,
   "id": "c31741c1-008b-4123-ba22-a0a32fce62e3",
   "metadata": {},
   "outputs": [],
   "source": [
    "# get the parent directory path to where this notebook is currently stored\n",
    "root_dir = os.path.dirname(os.getcwd())\n",
    "\n",
    "# data directory in repository\n",
    "data_dir = os.path.join(root_dir, \"data\")\n",
    "\n",
    "# GRIDCERF data directory from downloaded archive\n",
    "gridcerf_dir = os.path.join(data_dir, \"gridcerf\")\n",
    "\n",
    "# GRIDCERF reference data directory\n",
    "reference_dir = os.path.join(gridcerf_dir, \"reference\")\n",
    "\n",
    "# GRIDCERF source data directory for the downloaded airport data\n",
    "source_dir = os.path.join(gridcerf_dir, \"source\", \"technology_specific\",  'geothermal_resource_potential' )\n",
    "\n",
    "# GRIDCERF technology_specific data directory\n",
    "technology_specific_dir = os.path.join(gridcerf_dir, \"technology_specific\")\n",
    "\n",
    "# GRIDCERF compiled final suitability data directory\n",
    "compiled_dir = os.path.join(gridcerf_dir, \"compiled\")\n",
    "\n",
    "# template siting mask raster\n",
    "template_raster = os.path.join(reference_dir, \"gridcerf_sitingmask.tif\")\n",
    "\n",
    "# template conus mask raster\n",
    "land_mask_raster = os.path.join(reference_dir, \"gridcerf_landmask.tif\")\n",
    "\n",
    "# template conus mask raster\n",
    "conus_mask = os.path.join(reference_dir, \"gridcerf_landmask.tif\")\n",
    "\n",
    "# CONUS boundary shapefile\n",
    "conus_shpfile = os.path.join(reference_dir, \"gridcerf_conus_boundary.shp\")\n",
    "\n",
    "# shapefile location for the source data\n",
    "depth_500_shpfile = os.path.join(source_dir, '500m_Estimated_Temperature',  \"500m_Estimated_Temperature.shp\")\n",
    "depth_1000_shpfile = os.path.join(source_dir, '1000m_Estimated_Temperature',  \"1000m_Estimated_Temperature.shp\")\n",
    "depth_1500_shpfile = os.path.join(source_dir, '1500m_Estimated_Temperature',  \"1500m_Estimated_Temperature.shp\")\n",
    "depth_2000_shpfile = os.path.join(source_dir, '2000m_Estimated_Temperature',  \"2000m_Estimated_Temperature.shp\")\n",
    "depth_2500_shpfile = os.path.join(source_dir, '2500m_Estimated_Temperature',  \"2500m_Estimated_Temperature.shp\")\n",
    "depth_3000_shpfile = os.path.join(source_dir, '3000m_Estimated_Temperature',  \"3000m_Estimated_Temperature.shp\")\n",
    "\n",
    "# output rasters\n",
    "output_150c_file = os.path.join(technology_specific_dir, \"gridcerf_nrel_geothermal_temp_potential_greaterthan150c.tif\")\n",
    "output_200c_file = os.path.join(technology_specific_dir, \"gridcerf_nrel_geothermal_temp_potential_greaterthan200c.tif\")\n",
    "\n",
    "# factor for converting a mile to meter\n",
    "mi_to_meter = 1609.34\n",
    "\n",
    "# crs for converting projections\n",
    "crs = 'ESRI:102003'"
   ]
  },
  {
   "cell_type": "markdown",
   "id": "79197cd8-0c6f-4fb9-98d8-e492acd11b0e",
   "metadata": {},
   "source": [
    "## 4. Generate suitability rasters"
   ]
  },
  {
   "cell_type": "markdown",
   "id": "96e3a633-ca86-4a65-a727-8197a94f9fa6",
   "metadata": {},
   "source": [
    "### 4.1 Functions to build suitability"
   ]
  },
  {
   "cell_type": "code",
   "execution_count": 27,
   "id": "1ca619a9-3f3c-4682-b688-374f46bbc109",
   "metadata": {},
   "outputs": [],
   "source": [
    "def vector_to_raster(template_raster, land_mask_raster, gdf, value_field, output_raster):\n",
    "                     \n",
    "    # open the template raster and extract metadata and land mask\n",
    "    with rasterio.open(template_raster) as template:\n",
    "\n",
    "        metadata = template.meta.copy()\n",
    "\n",
    "        # update raster data type\n",
    "        metadata.update(dtype=np.int16)\n",
    "\n",
    "        # extract land mask\n",
    "        land_mask_file = rasterio.open(land_mask_raster)\n",
    "        land_mask = land_mask_file.read(1)\n",
    "        land_mask = np.where(land_mask == 0, np.nan, 1)\n",
    "\n",
    "        # write output raster\n",
    "        with rasterio.open(output_raster, 'w+', **metadata) as out:\n",
    "\n",
    "            out_arr = out.read(1)\n",
    "\n",
    "            # build shapes to rasterize from target geometry and field\n",
    "            shapes = ((geom, value) for geom, value in zip(gdf.geometry, gdf[value_field]))\n",
    "\n",
    "            # burn features\n",
    "            burned = features.rasterize(shapes=shapes, \n",
    "                                        fill=0, \n",
    "                                        out=out_arr, \n",
    "                                        transform=out.transform)\n",
    "            \n",
    "            burned = np.where(burned == 1, 1, 0).astype(np.float64)\n",
    "            \n",
    "            # apply land mask\n",
    "            burned *= land_mask\n",
    "            \n",
    "            # make nan excluded\n",
    "            burned = np.where(np.isnan(burned), 1, burned)\n",
    "\n",
    "            # swap suitability value\n",
    "            burned = np.where(burned == 1, 0, 1)\n",
    "\n",
    "            out.write_band(1, burned.astype(np.int16))\n"
   ]
  },
  {
   "cell_type": "markdown",
   "id": "bf2b4d5f-ddd8-4364-91c0-1a7f70687eee",
   "metadata": {},
   "source": [
    "### 4.2 Generate suitability"
   ]
  },
  {
   "cell_type": "code",
   "execution_count": 5,
   "id": "049da3f8-d59c-4ffa-8906-862512a2abbe",
   "metadata": {},
   "outputs": [],
   "source": [
    "# read in GRIDCERF boundary shapefile\n",
    "bdf = gpd.read_file(conus_shpfile)"
   ]
  },
  {
   "cell_type": "code",
   "execution_count": 7,
   "id": "9191ebae-6322-4f51-b02f-b70b7248b8e9",
   "metadata": {},
   "outputs": [],
   "source": [
    "# read in shapefiles and project to our GRIDCERF projection\n",
    "gdf_500 = gpd.read_file(depth_500_shpfile).to_crs(crs=crs)\n",
    "gdf_1000 = gpd.read_file(depth_1000_shpfile).to_crs(crs=crs)\n",
    "gdf_1500 = gpd.read_file(depth_1500_shpfile).to_crs(crs=crs)\n",
    "gdf_2000 = gpd.read_file(depth_2000_shpfile).to_crs(crs=crs)\n",
    "gdf_2500 = gpd.read_file(depth_2500_shpfile).to_crs(crs=crs)\n",
    "gdf_3000 = gpd.read_file(depth_3000_shpfile).to_crs(crs=crs)"
   ]
  },
  {
   "cell_type": "code",
   "execution_count": 30,
   "id": "583d238a-690e-4494-ad26-0da4f511eb5a",
   "metadata": {},
   "outputs": [],
   "source": [
    "combined_df = pd.concat([gdf_500,gdf_1000,gdf_1500,gdf_2000,gdf_2500,gdf_3000])\n",
    "gdf = gpd.GeoDataFrame(combined_df, geometry=combined_df['geometry'])"
   ]
  },
  {
   "cell_type": "code",
   "execution_count": 31,
   "id": "2fe0ef09-ba41-44cf-9a94-f4921e1bf29b",
   "metadata": {},
   "outputs": [],
   "source": [
    "# only keep areas within our GRIDCERF boundary\n",
    "gdf = gpd.clip(gdf, bdf)\n",
    "\n",
    "# add field to use for rasterization\n",
    "gdf[\"value\"] = 1"
   ]
  },
  {
   "cell_type": "markdown",
   "id": "3f76ca05-afb1-4bff-9c03-844dbdb5a0d8",
   "metadata": {},
   "source": [
    "#### 4.2.1 150C Temperature or Greater"
   ]
  },
  {
   "cell_type": "code",
   "execution_count": 32,
   "id": "979fa23f-9865-478e-a0b3-522588fc4f79",
   "metadata": {},
   "outputs": [
    {
     "data": {
      "text/plain": [
       "<Axes: >"
      ]
     },
     "execution_count": 32,
     "metadata": {},
     "output_type": "execute_result"
    },
    {
     "data": {
      "image/png": "[encoded data removed]",
      "text/plain": [
       "<Figure size 640x480 with 1 Axes>"
      ]
     },
     "metadata": {},
     "output_type": "display_data"
    }
   ],
   "source": [
    "gdf_150 = gdf[gdf['ESTIMATED '] >= 150]\n",
    "gdf_150.plot()"
   ]
  },
  {
   "cell_type": "code",
   "execution_count": 33,
   "id": "0e740c31-4549-458f-9d0d-7821b1cdd0d7",
   "metadata": {},
   "outputs": [],
   "source": [
    "# generate raster\n",
    "vector_to_raster(template_raster=template_raster, \n",
    "                 land_mask_raster=land_mask_raster,\n",
    "                 gdf=gdf_150, \n",
    "                 value_field=\"value\",\n",
    "                 output_raster=output_150c_file)"
   ]
  },
  {
   "cell_type": "markdown",
   "id": "39e9c442-258a-4f8a-a669-85a89e9bc944",
   "metadata": {},
   "source": [
    "#### 4.2.1 200C Temperature or Greater"
   ]
  },
  {
   "cell_type": "code",
   "execution_count": 34,
   "id": "044da928-a5e7-4a8d-8ce0-6ef22f204594",
   "metadata": {},
   "outputs": [
    {
     "data": {
      "text/plain": [
       "<Axes: >"
      ]
     },
     "execution_count": 34,
     "metadata": {},
     "output_type": "execute_result"
    },
    {
     "data": {
      "image/png": "[encoded data removed]",
      "text/plain": [
       "<Figure size 640x480 with 1 Axes>"
      ]
     },
     "metadata": {},
     "output_type": "display_data"
    }
   ],
   "source": [
    "gdf_200 = gdf[gdf['ESTIMATED '] >= 200]\n",
    "gdf_200.plot()"
   ]
  },
  {
   "cell_type": "code",
   "execution_count": 35,
   "id": "b2eb8029-db8a-4c7c-8aa4-750239b8c9b1",
   "metadata": {},
   "outputs": [],
   "source": [
    "# generate raster\n",
    "vector_to_raster(template_raster=template_raster, \n",
    "                 land_mask_raster=land_mask_raster,\n",
    "                 gdf=gdf_200, \n",
    "                 value_field=\"value\",\n",
    "                 output_raster=output_200c_file)"
   ]
  }
 ],
 "metadata": {
  "kernelspec": {
   "display_name": "Python 3 (ipykernel)",
   "language": "python",
   "name": "python3"
  },
  "language_info": {
   "codemirror_mode": {
    "name": "ipython",
    "version": 3
   },
   "file_extension": ".py",
   "mimetype": "text/x-python",
   "name": "python",
   "nbconvert_exporter": "python",
   "pygments_lexer": "ipython3",
   "version": "3.11.0"
  }
 },
 "nbformat": 4,
 "nbformat_minor": 5
}
