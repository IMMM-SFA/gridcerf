{
 "cells": [
  {
   "cell_type": "markdown",
   "id": "86e1044b-e63f-4d0d-855c-b68c28c2e63e",
   "metadata": {},
   "source": [
    "# Build surface water bodies suitablity layers for GRIDCERF\n"
   ]
  },
  {
   "cell_type": "markdown",
   "id": "c5c9ff34-eb69-45ad-ad4c-92d4953da1ea",
   "metadata": {},
   "source": [
    "The following code was used to build the surface water bodies suitability layers for GRIDCERF. GRIDCERF does not provide the source data directly due to some license restrictions related for direct redistribution of the unaltered source data.  However, the following details the provenance associated with each source dataset and how they were processed."
   ]
  },
  {
   "cell_type": "markdown",
   "id": "76e9318f-6812-4c76-9708-34881a59e8a1",
   "metadata": {},
   "source": [
    "## 1. Setup environment"
   ]
  },
  {
   "cell_type": "markdown",
   "id": "d6284f03-88a7-45cf-b051-88b970267916",
   "metadata": {},
   "source": [
    "### 1.1 Download GRIDCERF\n",
    "\n",
    "Download the GRIDCERF package if you have not yet done so from here:  https://doi.org/10.5281/zenodo.6601789.  Please extract GRIDCERF inside the `data` directory of this repository as the paths in this notebook are set to that expectation.\n"
   ]
  },
  {
   "cell_type": "markdown",
   "id": "bd8f6891-790e-4286-affd-e0580994b883",
   "metadata": {},
   "source": [
    "### 1.2 Data description\n"
   ]
  },
  {
   "cell_type": "markdown",
   "id": "95b71242-2b5b-4d8d-9383-47276dbd5cfd",
   "metadata": {},
   "source": [
    "- **Title**:  North America Rivers and Lakes\n",
    "- **Description from Source**: The North American Atlas - Hydrography data set shows the coastline, linear hydrographic features, and area hydrographic features in North America.\n",
    "- **Source URL**:  https://www.sciencebase.gov/catalog/item/4fb55df0e4b04cb937751e02\n",
    "- **Date Accessed**:  09/26/23\n",
    "- **Citation**\n",
    "> US Geological Survey, 2017. North America Rivers and Lakes. North America Spatial Data. https://www.sciencebase.gov/catalog/item/4f4e4760e4b07f02db47df9c\n",
    "- **Application**: To avoid siting technologies on water bodies, locations of lakes within the CONUS are excluded. The North American Rivers and Lakes dataset includes both natural lakes (Type 16 in the dataset) and reservoirs (Type 18 in the dataset). Other data item types represent land, ocean, or N/A areas and are not included in the final suitability layer.\n"
   ]
  },
  {
   "cell_type": "markdown",
   "id": "5f5213ea-13b8-4cf8-8b34-a034ea7cb553",
   "metadata": {},
   "source": [
    "### 1.3 Import modules\n"
   ]
  },
  {
   "cell_type": "code",
   "execution_count": 1,
   "id": "d5b1e720-9f35-42d6-8a4b-5de6629762e1",
   "metadata": {},
   "outputs": [],
   "source": [
    "import os\n",
    "\n",
    "import geopandas as gpd\n",
    "import numpy as np\n",
    "import rasterio\n",
    "from rasterio import features"
   ]
  },
  {
   "cell_type": "markdown",
   "id": "18a8486b-7e15-47e9-8be8-99f4225cad04",
   "metadata": {},
   "source": [
    "## 2. Configuration\n"
   ]
  },
  {
   "cell_type": "code",
   "execution_count": 2,
   "id": "c31741c1-008b-4123-ba22-a0a32fce62e3",
   "metadata": {},
   "outputs": [],
   "source": [
    "# get the parent directory path to where this notebook is currently stored\n",
    "root_dir = os.path.dirname(os.getcwd())\n",
    "\n",
    "# data directory in repository\n",
    "data_dir = os.path.join(root_dir, \"data\")\n",
    "\n",
    "# GRIDCERF data directory from downloaded archive\n",
    "gridcerf_dir = os.path.join(data_dir, \"gridcerf\")\n",
    "\n",
    "# GRIDCERF reference data directory\n",
    "reference_dir = os.path.join(gridcerf_dir, \"reference\")\n",
    "\n",
    "# GRIDCERF source data directory for the downloaded data\n",
    "source_dir = os.path.join(gridcerf_dir, \"source\", \"technology_specific\",  'surface_water_bodies' )\n",
    "\n",
    "# GRIDCERF technology_specific data directory\n",
    "technology_specific_dir = os.path.join(gridcerf_dir, \"technology_specific\")\n",
    "\n",
    "# GRIDCERF common data directory\n",
    "common_dir = os.path.join(gridcerf_dir, \"common\")\n",
    "\n",
    "# GRIDCERF compiled final suitability data directory\n",
    "compiled_dir = os.path.join(gridcerf_dir, \"compiled\")\n",
    "\n",
    "# template siting mask raster\n",
    "template_raster = os.path.join(reference_dir, \"gridcerf_sitingmask.tif\")\n",
    "\n",
    "# template conus mask raster\n",
    "land_mask_raster = os.path.join(reference_dir, \"gridcerf_landmask.tif\")\n",
    "\n",
    "# template conus mask raster\n",
    "conus_mask = os.path.join(reference_dir, \"gridcerf_landmask.tif\")\n",
    "\n",
    "# CONUS boundary shapefile\n",
    "conus_shpfile = os.path.join(reference_dir, \"gridcerf_conus_boundary.shp\")\n",
    "\n",
    "# shapefile location for the source airports\n",
    "lake_shpfile = os.path.join(source_dir, 'NA_Lakes_and_Rivers', 'data',  \"hydrography_p_lakes_v2.shp\")\n",
    "\n",
    "# output rasters\n",
    "output_lake_file = os.path.join(common_dir, \"gridcerf_usgs_lakes_reservoirs.tif\")\n",
    "\n",
    "# factor for converting a mile to meter\n",
    "mi_to_meter = 1609.34\n",
    "\n",
    "# crs for converting projections\n",
    "crs = 'ESRI:102003'\n"
   ]
  },
  {
   "cell_type": "markdown",
   "id": "79197cd8-0c6f-4fb9-98d8-e492acd11b0e",
   "metadata": {},
   "source": [
    "## 4. Generate suitability rasters"
   ]
  },
  {
   "cell_type": "markdown",
   "id": "96e3a633-ca86-4a65-a727-8197a94f9fa6",
   "metadata": {},
   "source": [
    "### 4.1 Functions to build suitability"
   ]
  },
  {
   "cell_type": "code",
   "execution_count": 3,
   "id": "1ca619a9-3f3c-4682-b688-374f46bbc109",
   "metadata": {},
   "outputs": [],
   "source": [
    "def vector_to_raster(template_raster, land_mask_raster, gdf, value_field, output_raster):\n",
    "                     \n",
    "    # open the template raster and extract metadata and land mask\n",
    "    with rasterio.open(template_raster) as template:\n",
    "\n",
    "        metadata = template.meta.copy()\n",
    "\n",
    "        # update raster data type\n",
    "        metadata.update(dtype=np.int16)\n",
    "\n",
    "        # extract land mask\n",
    "        land_mask_file = rasterio.open(land_mask_raster)\n",
    "        land_mask = land_mask_file.read(1)\n",
    "        land_mask = np.where(land_mask == 0, np.nan, 1)\n",
    "\n",
    "        # write output raster\n",
    "        with rasterio.open(output_raster, 'w+', **metadata) as out:\n",
    "\n",
    "            out_arr = out.read(1)\n",
    "\n",
    "            # build shapes to rasterize from target geometry and field\n",
    "            shapes = ((geom, value) for geom, value in zip(gdf.geometry, gdf[value_field]))\n",
    "\n",
    "            # burn features\n",
    "            burned = features.rasterize(shapes=shapes, \n",
    "                                        fill=0, \n",
    "                                        out=out_arr, \n",
    "                                        transform=out.transform)\n",
    "            \n",
    "            burned = np.where(burned == 1, 1, 0).astype(np.float64)\n",
    "            \n",
    "            # apply land mask\n",
    "            burned *= land_mask\n",
    "            \n",
    "            # make nan excluded\n",
    "            burned = np.where(np.isnan(burned), 1, burned)\n",
    "\n",
    "            out.write_band(1, burned.astype(np.int16))\n"
   ]
  },
  {
   "cell_type": "markdown",
   "id": "bf2b4d5f-ddd8-4364-91c0-1a7f70687eee",
   "metadata": {},
   "source": [
    "### 4.2 Generate suitability"
   ]
  },
  {
   "cell_type": "code",
   "execution_count": 4,
   "id": "049da3f8-d59c-4ffa-8906-862512a2abbe",
   "metadata": {},
   "outputs": [],
   "source": [
    "# read in GRIDCERF boundary shapefile\n",
    "bdf = gpd.read_file(conus_shpfile)"
   ]
  },
  {
   "cell_type": "code",
   "execution_count": 5,
   "id": "9191ebae-6322-4f51-b02f-b70b7248b8e9",
   "metadata": {},
   "outputs": [
    {
     "data": {
      "text/plain": [
       "<Axes: >"
      ]
     },
     "execution_count": 5,
     "metadata": {},
     "output_type": "execute_result"
    },
    {
     "data": {
      "image/png": "[encoded data removed]",
      "text/plain": [
       "<Figure size 640x480 with 1 Axes>"
      ]
     },
     "metadata": {},
     "output_type": "display_data"
    }
   ],
   "source": [
    "# read in shapefile and project to our GRIDCERF projection\n",
    "gdf = gpd.read_file(lake_shpfile).to_crs(crs=crs)\n",
    "\n",
    "# only keep areas within our GRIDCERF boundary\n",
    "gdf = gpd.clip(gdf, bdf)\n",
    "\n",
    "# keep only lakes and reservoirs\n",
    "gdf = gdf[gdf.TYPE.isin([16,18])]\n",
    "\n",
    "# add field to use for rasterization\n",
    "gdf[\"value\"] = 1\n",
    "\n",
    "gdf.plot()"
   ]
  },
  {
   "cell_type": "code",
   "execution_count": 6,
   "id": "b2eb8029-db8a-4c7c-8aa4-750239b8c9b1",
   "metadata": {},
   "outputs": [],
   "source": [
    "# generate raster\n",
    "vector_to_raster(template_raster=template_raster, \n",
    "                 land_mask_raster=template_raster,\n",
    "                 gdf=gdf, \n",
    "                 value_field=\"value\",\n",
    "                 output_raster=output_lake_file)"
   ]
  }
 ],
 "metadata": {
  "kernelspec": {
   "display_name": "Python 3 (ipykernel)",
   "language": "python",
   "name": "python3"
  },
  "language_info": {
   "codemirror_mode": {
    "name": "ipython",
    "version": 3
   },
   "file_extension": ".py",
   "mimetype": "text/x-python",
   "name": "python",
   "nbconvert_exporter": "python",
   "pygments_lexer": "ipython3",
   "version": "3.11.0"
  }
 },
 "nbformat": 4,
 "nbformat_minor": 5
}
