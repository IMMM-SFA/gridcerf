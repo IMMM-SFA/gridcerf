{
 "cells": [
  {
   "cell_type": "markdown",
   "id": "86e1044b-e63f-4d0d-855c-b68c28c2e63e",
   "metadata": {},
   "source": [
    "# Build offshore bathymetry suitability layers for GRIDCERF\n"
   ]
  },
  {
   "cell_type": "markdown",
   "id": "c5c9ff34-eb69-45ad-ad4c-92d4953da1ea",
   "metadata": {},
   "source": [
    "The following code was used to build the offshore bathymetry suitability layers for GRIDCERF. GRIDCERF does not provide the source data directly due to some license restrictions related for direct redistribution of the unaltered source data.  However, the following details the provenance associated with each source dataset and how they were processed."
   ]
  },
  {
   "cell_type": "markdown",
   "id": "76e9318f-6812-4c76-9708-34881a59e8a1",
   "metadata": {},
   "source": [
    "## 1. Setup environment"
   ]
  },
  {
   "cell_type": "markdown",
   "id": "d6284f03-88a7-45cf-b051-88b970267916",
   "metadata": {},
   "source": [
    "### 1.1 Download GRIDCERF\n",
    "\n",
    "Download the GRIDCERF package if you have not yet done so from here:  https://doi.org/10.5281/zenodo.6601789.  Please extract GRIDCERF inside the `data` directory of this repository as the paths in this notebook are set to that expectation.\n"
   ]
  },
  {
   "cell_type": "markdown",
   "id": "bd8f6891-790e-4286-affd-e0580994b883",
   "metadata": {},
   "source": [
    "### 1.2 Data description\n"
   ]
  },
  {
   "cell_type": "markdown",
   "id": "95b71242-2b5b-4d8d-9383-47276dbd5cfd",
   "metadata": {},
   "source": [
    "- **Title**:  General Bathymetric Chart of the Oceans - Global ocean & land terrain models\n",
    "- **Description from Source**: GEBCO’s current gridded bathymetric data set, the GEBCO_2023 Grid, is a global terrain model for ocean and land, providing elevation data, in meters, on a 15 arc-second interval grid. It is accompanied by a Type Identifier (TID) Grid that gives information on the types of source data that the GEBCO_2023 Grid is based on.\n",
    "- **Source URL**:  https://www.gebco.net/data_and_products/gridded_bathymetry_data/#area\n",
    "- **Date Accessed**:  4/17/24\n",
    "- **Citation**\n",
    "> GEBCO. Global ocean & land terrain models. General Bathymetric Chart of the Oceans. British Oceanographic Data Centre. https://www.gebco.net/data_and_products/gridded_bathymetry_data/#area (2024).\n",
    "- **Application**:\n",
    "Gridded data is downloaded from the GEBCO data source with the following extent: North 53.4349, South 15.5272, West -135.7826, East -61.7518. Data is then projected to the albers equal area conic crs (ESRI:102003). Offshore wind is not capable of being sited in waters of depth greater than -1000m. All areas of greater depth are given a value of 1 (excluded). This data file includes both oceanic and great lakes areas."
   ]
  },
  {
   "cell_type": "markdown",
   "id": "5f5213ea-13b8-4cf8-8b34-a034ea7cb553",
   "metadata": {},
   "source": [
    "### 1.3 Import modules\n"
   ]
  },
  {
   "cell_type": "code",
   "execution_count": 11,
   "id": "d5b1e720-9f35-42d6-8a4b-5de6629762e1",
   "metadata": {},
   "outputs": [],
   "source": [
    "import os\n",
    "\n",
    "import geopandas as gpd\n",
    "import numpy as np\n",
    "import rasterio\n",
    "from rasterio import features\n",
    "from rasterio.plot import show"
   ]
  },
  {
   "cell_type": "markdown",
   "id": "18a8486b-7e15-47e9-8be8-99f4225cad04",
   "metadata": {},
   "source": [
    "## 2. Configuration\n"
   ]
  },
  {
   "cell_type": "code",
   "execution_count": 24,
   "id": "c31741c1-008b-4123-ba22-a0a32fce62e3",
   "metadata": {},
   "outputs": [],
   "source": [
    "# get the parent directory path to where this notebook is currently stored\n",
    "root_dir = os.path.dirname(os.getcwd())\n",
    "\n",
    "# data directory in repository\n",
    "data_dir = os.path.join(root_dir, \"data\")\n",
    "\n",
    "# GRIDCERF data directory from downloaded archive\n",
    "gridcerf_dir = os.path.join(data_dir, \"gridcerf\")\n",
    "\n",
    "# GRIDCERF reference data directory\n",
    "reference_dir = os.path.join(gridcerf_dir, \"reference\")\n",
    "\n",
    "# GRIDCERF source data directory for the downloaded airport data\n",
    "source_dir = os.path.join(gridcerf_dir, \"source\", \"technology_specific\",  'offshore_bathymetry' )\n",
    "\n",
    "# GRIDCERF technology_specific data directory\n",
    "technology_specific_dir = os.path.join(gridcerf_dir, \"technology_specific\")\n",
    "\n",
    "# GRIDCERF compiled final suitability data directory\n",
    "compiled_dir = os.path.join(gridcerf_dir, \"compiled\")\n",
    "\n",
    "# template siting mask raster\n",
    "template_raster = os.path.join(reference_dir, \"gridcerf_sitingmask.tif\")\n",
    "\n",
    "# template conus mask raster\n",
    "land_mask_raster = os.path.join(reference_dir, \"gridcerf_landmask.tif\")\n",
    "\n",
    "# template conus mask raster\n",
    "conus_mask = os.path.join(reference_dir, \"gridcerf_landmask.tif\")\n",
    "\n",
    "# CONUS boundary shapefile\n",
    "conus_shpfile = os.path.join(reference_dir, \"gridcerf_conus_boundary.shp\")\n",
    "\n",
    "# raster location for the source data\n",
    "bathymetry_path = os.path.join(source_dir, \"gebco_2023_n53.4349_s15.5272_w-135.7826_e-61.7518.tif\")\n",
    "\n",
    "# output rasters\n",
    "output_raster_file = os.path.join(technology_specific_dir, \"gridcerf_gebco_offshore_bathymetry_greater_than_1000m.tif.tif\")\n",
    "\n",
    "# crs for converting projections\n",
    "crs = 'ESRI:102003'\n"
   ]
  },
  {
   "cell_type": "markdown",
   "id": "79197cd8-0c6f-4fb9-98d8-e492acd11b0e",
   "metadata": {},
   "source": [
    "## 4. Generate suitability rasters"
   ]
  },
  {
   "cell_type": "markdown",
   "id": "5880ffc1-2bb5-4dbb-b206-21e27066d63b",
   "metadata": {},
   "source": [
    "### 4.1 Translate geospatial raster to albers crs and correct extent"
   ]
  },
  {
   "cell_type": "code",
   "execution_count": 6,
   "id": "b6af7c8b-cd21-40f6-9215-0c9e6809e918",
   "metadata": {},
   "outputs": [
    {
     "name": "stdout",
     "output_type": "stream",
     "text": [
      "Creating output file that is 5460P x 3229L.\n",
      "Processing /Users/mong275/repos/gridcerf/data/gridcerf/source/technology_specific/offshore_bathymetry/gebco_2023_n53.4349_s15.5272_w-135.7826_e-61.7518.tif [1/1] : 0Using internal nodata values (e.g. -32767) for image /Users/mong275/repos/gridcerf/data/gridcerf/source/technology_specific/offshore_bathymetry/gebco_2023_n53.4349_s15.5272_w-135.7826_e-61.7518.tif.\n",
      "Copying nodata values from source /Users/mong275/repos/gridcerf/data/gridcerf/source/technology_specific/offshore_bathymetry/gebco_2023_n53.4349_s15.5272_w-135.7826_e-61.7518.tif to destination /Users/mong275/repos/gridcerf/data/gridcerf/source/technology_specific/offshore_bathymetry/tmp.tif.\n",
      "...10...20...30...40...50...60...70...80...90...100 - done.\n"
     ]
    },
    {
     "data": {
      "text/plain": [
       "0"
      ]
     },
     "execution_count": 6,
     "metadata": {},
     "output_type": "execute_result"
    }
   ],
   "source": [
    "output = os.path.join(source_dir, 'tmp.tif')\n",
    "\n",
    "# gdal warp command\n",
    "gdal_cmd = f'gdalwarp -s_srs EPSG:4326 -t_srs ESRI:102003 -tr 1000.0 1000.0 -r bilinear -te -2831615.228 -1539013.3223 2628318.0948 1690434.1707 -te_srs ESRI:102003 -of GTiff {bathymetry_path} {output}'\n",
    "\n",
    "os.system(gdal_cmd)"
   ]
  },
  {
   "cell_type": "markdown",
   "id": "bf2b4d5f-ddd8-4364-91c0-1a7f70687eee",
   "metadata": {},
   "source": [
    "### 4.2 Generate suitability"
   ]
  },
  {
   "cell_type": "code",
   "execution_count": 25,
   "id": "396b9464-b784-44a1-91d9-a91a917f678b",
   "metadata": {},
   "outputs": [],
   "source": [
    "# create suitable raster\n",
    "with rasterio.open(template_raster) as src:\n",
    "    \n",
    "    # update metadata datatype to int16\n",
    "    metadata = src.meta.copy()\n",
    "\n",
    "    siting_mask = src.read(1)\n",
    "\n",
    "    with rasterio.open(output) as bath_tif:\n",
    "        \n",
    "        arr = bath_tif.read(1)\n",
    "        \n",
    "        # make all areas with seafloor deeper than 1000m below water unsuitable\n",
    "        arr = np.where(arr < -1000, 1, 0)\n",
    "        \n",
    "        # apply land mask\n",
    "        arr *= siting_mask\n",
    "        \n",
    "        # make nan excluded\n",
    "        arr = np.where(np.isnan(arr), 1, arr)\n",
    "        \n",
    "        with rasterio.open(output_raster_file, 'w', **metadata) as dest:\n",
    "            dest.write(arr.astype(rasterio.int16), 1)"
   ]
  },
  {
   "cell_type": "code",
   "execution_count": 23,
   "id": "3aaee1f9-86b6-4c1e-9a14-86631b5623a9",
   "metadata": {},
   "outputs": [
    {
     "data": {
      "image/png": "[encoded data removed]",
      "text/plain": [
       "<Figure size 640x480 with 1 Axes>"
      ]
     },
     "metadata": {},
     "output_type": "display_data"
    },
    {
     "data": {
      "text/plain": [
       "<Axes: >"
      ]
     },
     "execution_count": 23,
     "metadata": {},
     "output_type": "execute_result"
    }
   ],
   "source": [
    "show(rasterio.open(output_raster_file))"
   ]
  }
 ],
 "metadata": {
  "kernelspec": {
   "display_name": "Python 3 (ipykernel)",
   "language": "python",
   "name": "python3"
  },
  "language_info": {
   "codemirror_mode": {
    "name": "ipython",
    "version": 3
   },
   "file_extension": ".py",
   "mimetype": "text/x-python",
   "name": "python",
   "nbconvert_exporter": "python",
   "pygments_lexer": "ipython3",
   "version": "3.11.0"
  }
 },
 "nbformat": 4,
 "nbformat_minor": 5
}
