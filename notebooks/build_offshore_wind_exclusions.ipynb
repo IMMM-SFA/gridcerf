{
 "cells": [
  {
   "cell_type": "markdown",
   "id": "86e1044b-e63f-4d0d-855c-b68c28c2e63e",
   "metadata": {},
   "source": [
    "# Build offshore wind suitablity layers for GRIDCERF\n"
   ]
  },
  {
   "cell_type": "markdown",
   "id": "c5c9ff34-eb69-45ad-ad4c-92d4953da1ea",
   "metadata": {},
   "source": [
    "The following code was used to build the offshore wind suitability layers for GRIDCERF. GRIDCERF does not provide the source data directly due to some license restrictions related for direct redistribution of the unaltered source data.  However, the following details the provenance associated with each source dataset and how they were processed."
   ]
  },
  {
   "cell_type": "markdown",
   "id": "76e9318f-6812-4c76-9708-34881a59e8a1",
   "metadata": {},
   "source": [
    "## 1. Setup environment"
   ]
  },
  {
   "cell_type": "markdown",
   "id": "d6284f03-88a7-45cf-b051-88b970267916",
   "metadata": {},
   "source": [
    "### 1.1 Download GRIDCERF\n",
    "\n",
    "Download the GRIDCERF package if you have not yet done so from here:  https://doi.org/10.5281/zenodo.6601789.  Please extract GRIDCERF inside the `data` directory of this repository as the paths in this notebook are set to that expectation.\n"
   ]
  },
  {
   "cell_type": "markdown",
   "id": "bd8f6891-790e-4286-affd-e0580994b883",
   "metadata": {},
   "source": [
    "### 1.2 Data description\n"
   ]
  },
  {
   "cell_type": "markdown",
   "id": "95b71242-2b5b-4d8d-9383-47276dbd5cfd",
   "metadata": {},
   "source": [
    "- **Title**:  National Marine Sanctuary Program Digital Boundary Files\n",
    "- **Description from Source**: The Office of National Marine Sanctuaries manages a system of sanctuaries and other managed areas around the country. The legal boundaries of these sanctuaries are defined within the Code of Federal Regulations, at 15 C.F.R. Part 922 and the subparts for each national marine sanctuary. The GIS compatible digital boundary files for each national marine sanctuary are representations of those legal boundaries and are based on the best available data. These files are available for public use at locations defined in this metadata record.\n",
    "- **Boundaries Included**: Channel Islands, Cordell Bank, Florida Keys, Flower Garden Banks, Gray's Reef, Greater Farallones, Mallows Bay-Potomac River, Monitor, Monterey Bay, Olympic Coast, Stellwagen Bank, Thunder Bay, Wisconsin Shipwreck.\n",
    "\n",
    "- **Source URL**:  https://sanctuaries.noaa.gov/library/imast_gis.html\n",
    "- **Date Accessed**:  9/22/23\n",
    "- **Citation**\n",
    "> NOAA / National Marine Sanctuaries Program. National Marine Sanctuary Program Digital Boundary Files. NOAA/National Marine Sanctuaries Program, Silver Spring, Maryland. https://sanctuaries.noaa.gov/library/imast_gis.html.\n",
    "\n",
    "_________\n",
    "\n",
    "- **Title**:  Danger Zones and Restricted Areas\n",
    "- **Description from Source**: These data represent the location of Danger Zones and Restricted Areas within coastal and marine waters, as outlined by the Code of Federal Regulations (CFR) and the Raster Navigational Charts (RNC). The CFR defines a Danger Zone as, \"A defined water area (or areas) used for target practice, bombing, rocket firing or other especially hazardous operations, normally for the armed forces. The danger zones may be closed to the public on a full-time or intermittent basis, as stated in the regulations.\" The CFR defines a Restricted Area as, \"A defined water area for the purpose of prohibiting or limiting public access to the area. Restricted areas generally provide security for Government property and/or protection to the public from the risks of damage or injury arising from the Government's use of that area.\" Other features in this dataset include: Danger Area, Missile Testing Area, Naval Operations Area, Prohibited Area, Restricted Airspace, Test Area, and Torpedo Testing Area. Authoritative information relating to these data may be found in Title 33, Chapter II of the CFR (Part 334).\n",
    "\n",
    "- **Source URL**:  https://marinecadastre-noaa.hub.arcgis.com/datasets/noaa::danger-zones-and-restricted-areas/about\n",
    "- **Date Accessed**:  9/22/23\n",
    "- **Citation**\n",
    "> Office for Coastal Management. Danger Zones and Restricted Areas. NOAA National Centers for Environmental Information, https://www.fisheries.noaa.gov/inport/item/48876.\n",
    "_________\n",
    "\n",
    "\n",
    "- **Title**:  Munitions and Explosives of Concern\n",
    "- **Description from Source**: Munitions and explosives of concern (MEC) have been deposited on the seabed of the United States Outer Continental Shelf since World War I. The bulk of these munitions have originated from the U.S. Armed Forces while conducting military training exercises, war-time placement, and disposal and dumping activities. Since 1972, ocean disposal of munitions and other pollutants has been banned by the Marine Protection, Research, and Sanctuaries Act. Federal and state efforts to mitigate, map, monitor, and sometimes remove these munitions are ongoing. The term MEC defines a collection of munitions including a) unexploded ordnance, b) discarded military munitions, and c) munition constituents that are present in high enough concentrations to pose an explosive hazard. \n",
    "\n",
    "- **Source URL**:  https://marinecadastre-noaa.hub.arcgis.com/datasets/noaa::munitions-and-explosives-of-concern/about\n",
    "- **Date Accessed**:  9/22/23\n",
    "- **Citation**\n",
    "> Office for Coastal Management. Danger Zones and Restricted Areas. NOAA National Centers for Environmental Information, https://www.fisheries.noaa.gov/inport/item/48876.\n",
    "_________\n",
    "\n"
   ]
  },
  {
   "cell_type": "markdown",
   "id": "5f5213ea-13b8-4cf8-8b34-a034ea7cb553",
   "metadata": {},
   "source": [
    "### 1.3 Import modules\n"
   ]
  },
  {
   "cell_type": "code",
   "execution_count": 9,
   "id": "d5b1e720-9f35-42d6-8a4b-5de6629762e1",
   "metadata": {},
   "outputs": [],
   "source": [
    "import os\n",
    "\n",
    "import pandas as pd\n",
    "import geopandas as gpd\n",
    "import numpy as np\n",
    "import rasterio\n",
    "from rasterio import features"
   ]
  },
  {
   "cell_type": "markdown",
   "id": "18a8486b-7e15-47e9-8be8-99f4225cad04",
   "metadata": {},
   "source": [
    "## 2. Configuration\n"
   ]
  },
  {
   "cell_type": "code",
   "execution_count": 56,
   "id": "c31741c1-008b-4123-ba22-a0a32fce62e3",
   "metadata": {},
   "outputs": [],
   "source": [
    "# get the parent directory path to where this notebook is currently stored\n",
    "root_dir = os.path.dirname(os.getcwd())\n",
    "\n",
    "# data directory in repository\n",
    "data_dir = os.path.join(root_dir, \"data\")\n",
    "\n",
    "# GRIDCERF data directory from downloaded archive\n",
    "gridcerf_dir = os.path.join(data_dir, \"gridcerf\")\n",
    "\n",
    "# GRIDCERF reference data directory\n",
    "reference_dir = os.path.join(gridcerf_dir, \"reference\")\n",
    "\n",
    "# GRIDCERF source data directories\n",
    "tech_specific_dir = os.path.join(gridcerf_dir, \"source\", \"technology_specific\",\n",
    "marine_sanctuaries_source_dir =  os.path.join(tech_specific_dir, \"marine_sanctuaries\")\n",
    "danger_zones_source_dir = os.path.join(tech_specific_dir, \"offshore_danger_zones\")\n",
    "munitions_source_dir = os.path.join(tech_specific_dir,  \"offshore_munitions\")\n",
    "lease_withdrawal_dir = os.path.join(tech_specific_dir,  \"offshore_areas_withdrawn_from_leasing\")\n",
    "hapc_dir = os.path.join(tech_specific_dir,  \"offshore_habitats_of_particular_concern\")\n",
    "high_density_fishing_dir = os.path.join(tech_specific_dir,  \"offshore_high_density_fishing\")\n",
    "shipping_lane_dir = os.path.join(tech_specific_dir,  \"offshore_shipping_lanes\")\n",
    "submarine_cable_dir = os.path.join(tech_specific_dir,  \"offshore_submarine_cables\")\n",
    "wrecks_dir = os.path.join(tech_specific_dir,  \"offshore_wrecks_obstructions\")\n",
    "state_waters_dir = os.path.join(tech_specific_dir,  \"offshore_state_waters\")\n",
    "\n",
    "\n",
    "# GRIDCERF technology_specific data directory\n",
    "technology_specific_dir = os.path.join(gridcerf_dir, \"technology_specific\")\n",
    "\n",
    "# GRIDCERF compiled final suitability data directory\n",
    "compiled_dir = os.path.join(gridcerf_dir, \"compiled\")\n",
    "\n",
    "# template siting mask raster\n",
    "template_raster = os.path.join(reference_dir, \"gridcerf_sitingmask.tif\")\n",
    "\n",
    "# template conus mask raster\n",
    "conus_mask = os.path.join(reference_dir, \"gridcerf_landmask.tif\")\n",
    "\n",
    "# Siting boundary shapefile\n",
    "conus_shpfile = os.path.join(reference_dir, \"gridcerf_siting_boundary.shp\")\n",
    "\n",
    "# source files\n",
    "# --------------------------\n",
    "\n",
    "# shapefile location for marine sanctuaries\n",
    "wisconsin_ms_shpfile = os.path.join(marine_sanctuaries_source_dir, \n",
    "                                    '2021-wisconsin-shipwreck-coast-national-marine-sanctuary_py', 'WSCNMS_py.shp')\n",
    "cordell_ms_shpfile = os.path.join(marine_sanctuaries_source_dir, 'cbnms_py2', 'CBNMS_py.shp')\n",
    "channel_islands_ms_shpfile = os.path.join(marine_sanctuaries_source_dir, 'cinms_py2', 'cinms_py.shp')\n",
    "flower_garden_ms_shpfile = os.path.join(marine_sanctuaries_source_dir, 'fgbnms_py', 'FGBNMS_py.shp')\n",
    "florida_keys_ms_shpfile = os.path.join(marine_sanctuaries_source_dir, 'fknms_py2', 'fknms_py.shp')\n",
    "greater_farallones_ms_shpfile = os.path.join(marine_sanctuaries_source_dir, 'gfnms_py2', 'GFNMS_py.shp')\n",
    "grays_reef_ms_shpfile = os.path.join(marine_sanctuaries_source_dir, 'grnms_py2', 'grnms_py.shp')\n",
    "monterey_bay_ms_shpfile = os.path.join(marine_sanctuaries_source_dir, 'mbnms_py2', 'mbnms_py.shp')\n",
    "monitor_ms_shpfile = os.path.join(marine_sanctuaries_source_dir, 'mnms_py2', 'mnms_py.shp')\n",
    "mallows_bay_ms_shpfile = os.path.join(marine_sanctuaries_source_dir, 'MBPR_py', 'MBPR_py.shp')\n",
    "olympic_coast_ms_shpfile = os.path.join(marine_sanctuaries_source_dir, 'ocnms_py2', 'ocnms_py.shp')\n",
    "stellwagen_bank_ms_shpfile = os.path.join(marine_sanctuaries_source_dir, 'sbnms_py2', 'sbnms_py.shp')\n",
    "thunder_bay_ms_shpfile = os.path.join(marine_sanctuaries_source_dir, 'tbnms_py2', 'tbnms_py.shp')\n",
    "\n",
    "# danger zones and restricted areas\n",
    "offshore_dz_shpfile = os.path.join(danger_zones_source_dir, 'Danger_Zones_and_Restricted_Areas', \n",
    "                                   'Danger_Zones_and_Restricted_Areas.shp')\n",
    "\n",
    "# munitions and explosives of concern\n",
    "offshore_munitions_shpfile = os.path.join(munitions_source_dir, 'Munitions_and_Explosives_of_Concern', \n",
    "                                   'Munitions_and_Explosives_of_Concern.shp')\n",
    "\n",
    "\n",
    "\n",
    "# -----------------------------\n",
    "\n",
    "# output rasters\n",
    "output_marine_sanctuaries_file = os.path.join(technology_specific_dir, \"gridcerf_noaa_marine_sanctuaries.tif\")\n",
    "output_danger_zone_file = os.path.join(technology_specific_dir, \"gridcerf_noaa_offshore_danger_zones.tif\")\n",
    "output_munitions_file = os.path.join(technology_specific_dir, \"gridcerf_noaa_offshore_munitions_zones.tif\")\n",
    "\n",
    "\n",
    "# factor for converting a mile to meter\n",
    "mi_to_meter = 1609.34\n",
    "\n",
    "# crs for converting projections\n",
    "crs = 'ESRI:102003'"
   ]
  },
  {
   "cell_type": "markdown",
   "id": "79197cd8-0c6f-4fb9-98d8-e492acd11b0e",
   "metadata": {},
   "source": [
    "## 4. Generate suitability rasters"
   ]
  },
  {
   "cell_type": "markdown",
   "id": "96e3a633-ca86-4a65-a727-8197a94f9fa6",
   "metadata": {},
   "source": [
    "### 4.1 Functions to build suitability"
   ]
  },
  {
   "cell_type": "code",
   "execution_count": 47,
   "id": "1ca619a9-3f3c-4682-b688-374f46bbc109",
   "metadata": {},
   "outputs": [],
   "source": [
    "def vector_to_raster(template_raster, conus_mask, gdf, value_field, output_raster):\n",
    "                     \n",
    "    # open the template raster and extract metadata and land mask\n",
    "    with rasterio.open(template_raster) as template:\n",
    "\n",
    "        metadata = template.meta.copy()\n",
    "\n",
    "        # update raster data type\n",
    "        metadata.update(dtype=np.int16)\n",
    "\n",
    "        # extract land mask\n",
    "        land_mask = template.read(1)\n",
    "        land_mask = np.where(land_mask == 0, np.nan, 1)\n",
    "\n",
    "        conus_file = rasterio.open(conus_mask)\n",
    "        conus = conus_file.read(1)\n",
    "        conus = np.where(conus == 1, 2, 0)\n",
    "\n",
    "        # write output raster\n",
    "        with rasterio.open(output_raster, 'w+', **metadata) as out:\n",
    "\n",
    "            out_arr = out.read(1)\n",
    "\n",
    "            # build shapes to rasterize from target geometry and field\n",
    "            shapes = ((geom, value) for geom, value in zip(gdf.geometry, gdf[value_field]))\n",
    "\n",
    "            # burn features\n",
    "            burned = features.rasterize(shapes=shapes, \n",
    "                                        fill=0, \n",
    "                                        out=out_arr, \n",
    "                                        transform=out.transform)\n",
    "            \n",
    "            burned = np.where(burned == 1, 1, 0).astype(np.float64)\n",
    "            \n",
    "            # apply land mask\n",
    "            # burned *= land_mask\n",
    "\n",
    "            # # apply conus mask for offshore\n",
    "            # burned += conus\n",
    "            # burned = np.where(burned >= 1, 1, 0).astype(np.float64)\n",
    "            \n",
    "            # make nan excluded\n",
    "            burned = np.where(np.isnan(burned), 1, burned)\n",
    "\n",
    "            out.write_band(1, burned.astype(np.int16))\n"
   ]
  },
  {
   "cell_type": "markdown",
   "id": "bf2b4d5f-ddd8-4364-91c0-1a7f70687eee",
   "metadata": {},
   "source": [
    "### 4.2 Generate suitability"
   ]
  },
  {
   "cell_type": "code",
   "execution_count": 31,
   "id": "049da3f8-d59c-4ffa-8906-862512a2abbe",
   "metadata": {},
   "outputs": [],
   "source": [
    "# read in GRIDCERF boundary shapefile\n",
    "bdf = gpd.read_file(conus_shpfile)"
   ]
  },
  {
   "cell_type": "markdown",
   "id": "572a2c46-076a-41ed-bd67-1b790d3129f4",
   "metadata": {},
   "source": [
    "#### 4.2.1 Marine Sanctuaries"
   ]
  },
  {
   "cell_type": "code",
   "execution_count": 29,
   "id": "9191ebae-6322-4f51-b02f-b70b7248b8e9",
   "metadata": {},
   "outputs": [
    {
     "data": {
      "text/plain": [
       "<Axes: >"
      ]
     },
     "execution_count": 29,
     "metadata": {},
     "output_type": "execute_result"
    },
    {
     "data": {
      "image/png": "[encoded data removed]",
      "text/plain": [
       "<Figure size 640x480 with 1 Axes>"
      ]
     },
     "metadata": {},
     "output_type": "display_data"
    }
   ],
   "source": [
    "# read in marine sanctuaries shapefiles, combine, and project to our GRIDCERF projection\n",
    "marine_sanctuary_files = [cordell_ms_shpfile, \n",
    "                          channel_islands_ms_shpfile,\n",
    "                          flower_garden_ms_shpfile,\n",
    "                          florida_keys_ms_shpfile,\n",
    "                          greater_farallones_ms_shpfile,\n",
    "                          grays_reef_ms_shpfile,\n",
    "                          monterey_bay_ms_shpfile,\n",
    "                          monitor_ms_shpfile,\n",
    "                          mallows_bay_ms_shpfile,\n",
    "                          olympic_coast_ms_shpfile,\n",
    "                          stellwagen_bank_ms_shpfile,\n",
    "                          thunder_bay_ms_shpfile]\n",
    "\n",
    "ms_gdf = gpd.GeoDataFrame()\n",
    "for file in marine_sanctuary_files:\n",
    "    gdf = gpd.read_file(file).to_crs(crs)\n",
    "    ms_gdf = gpd.GeoDataFrame(pd.concat([ms_gdf, gdf], ignore_index=True))\n",
    "\n",
    "# only keep marine sanctuaries within our GRIDCERF boundary\n",
    "ms_gdf = gpd.clip(ms_gdf, bdf)\n",
    "\n",
    "# add field to use for rasterization\n",
    "ms_gdf[\"value\"] = 1\n",
    "\n",
    "ms_gdf.plot()"
   ]
  },
  {
   "cell_type": "code",
   "execution_count": 48,
   "id": "b2eb8029-db8a-4c7c-8aa4-750239b8c9b1",
   "metadata": {},
   "outputs": [],
   "source": [
    "# generate raster for marine sanctuaries\n",
    "vector_to_raster(template_raster=template_raster, \n",
    "                 conus_mask=conus_mask,\n",
    "                 gdf=ms_gdf, \n",
    "                 value_field=\"value\",\n",
    "                 output_raster=output_marine_sanctuaries_file)"
   ]
  },
  {
   "cell_type": "markdown",
   "id": "f74cd220-da6a-4ffb-9c2a-f351997c641d",
   "metadata": {},
   "source": [
    "_____________________"
   ]
  },
  {
   "cell_type": "markdown",
   "id": "eade9a8f-55ba-49fd-834f-d04e4be82e91",
   "metadata": {},
   "source": [
    "#### 4.2.2 Offshore Danger Zones and Restricted Areas"
   ]
  },
  {
   "cell_type": "code",
   "execution_count": 50,
   "id": "e291c151-a371-459f-81c1-2410a4898b31",
   "metadata": {},
   "outputs": [
    {
     "data": {
      "text/plain": [
       "<Axes: >"
      ]
     },
     "execution_count": 50,
     "metadata": {},
     "output_type": "execute_result"
    },
    {
     "data": {
      "image/png": "[encoded data removed]",
      "text/plain": [
       "<Figure size 640x480 with 1 Axes>"
      ]
     },
     "metadata": {},
     "output_type": "display_data"
    }
   ],
   "source": [
    "# read in shapefile  and project to our GRIDCERF projection\n",
    "danger_zone_gdf = gpd.read_file(offshore_dz_shpfile).to_crs(crs)\n",
    "\n",
    "# only keep marine sanctuaries within our GRIDCERF boundary\n",
    "danger_zone_gdf = gpd.clip(danger_zone_gdf, bdf)\n",
    "\n",
    "# add field to use for rasterization\n",
    "danger_zone_gdf[\"value\"] = 1\n",
    "\n",
    "danger_zone_gdf.plot()"
   ]
  },
  {
   "cell_type": "code",
   "execution_count": 52,
   "id": "2f2f35d2-1ced-4efb-8ee6-cc32d47b6b98",
   "metadata": {},
   "outputs": [],
   "source": [
    "# generate raster for marine sanctuaries\n",
    "vector_to_raster(template_raster=template_raster, \n",
    "                 conus_mask=conus_mask,\n",
    "                 gdf=danger_zone_gdf, \n",
    "                 value_field=\"value\",\n",
    "                 output_raster=output_danger_zone_file)"
   ]
  },
  {
   "cell_type": "markdown",
   "id": "5bab7919-6536-4174-b09e-96db317b9377",
   "metadata": {},
   "source": [
    "#### 4.2.3 Offshore Munitions and explosives of concern"
   ]
  },
  {
   "cell_type": "code",
   "execution_count": 59,
   "id": "c11aa91a-bafc-49ce-b2ff-b6100da49c02",
   "metadata": {},
   "outputs": [
    {
     "data": {
      "text/plain": [
       "<Axes: >"
      ]
     },
     "execution_count": 59,
     "metadata": {},
     "output_type": "execute_result"
    },
    {
     "data": {
      "image/png": "[encoded data removed]",
      "text/plain": [
       "<Figure size 640x480 with 1 Axes>"
      ]
     },
     "metadata": {},
     "output_type": "display_data"
    }
   ],
   "source": [
    "# read in shapefile  and project to our GRIDCERF projection\n",
    "munitions_gdf = gpd.read_file(offshore_munitions_shpfile).to_crs(crs)\n",
    "\n",
    "# only keep marine sanctuaries within our GRIDCERF boundary\n",
    "munitions_gdf = gpd.clip(munitions_gdf, bdf)\n",
    "\n",
    "# add field to use for rasterization\n",
    "munitions_gdf[\"value\"] = 1\n",
    "\n",
    "munitions_gdf.plot()"
   ]
  },
  {
   "cell_type": "code",
   "execution_count": 60,
   "id": "b68b4d3e-775c-4a26-8b18-cf578788ed38",
   "metadata": {},
   "outputs": [],
   "source": [
    "# generate raster for marine sanctuaries\n",
    "vector_to_raster(template_raster=template_raster, \n",
    "                 conus_mask=conus_mask,\n",
    "                 gdf=munitions_gdf, \n",
    "                 value_field=\"value\",\n",
    "                 output_raster=output_munitions_file)"
   ]
  },
  {
   "cell_type": "code",
   "execution_count": null,
   "id": "fe87a444-9478-4442-aeb5-041669397cd9",
   "metadata": {},
   "outputs": [],
   "source": []
  }
 ],
 "metadata": {
  "kernelspec": {
   "display_name": "Python 3 (ipykernel)",
   "language": "python",
   "name": "python3"
  },
  "language_info": {
   "codemirror_mode": {
    "name": "ipython",
    "version": 3
   },
   "file_extension": ".py",
   "mimetype": "text/x-python",
   "name": "python",
   "nbconvert_exporter": "python",
   "pygments_lexer": "ipython3",
   "version": "3.11.0"
  }
 },
 "nbformat": 4,
 "nbformat_minor": 5
}
