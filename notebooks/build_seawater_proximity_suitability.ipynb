{
 "cells": [
  {
   "cell_type": "markdown",
   "id": "86e1044b-e63f-4d0d-855c-b68c28c2e63e",
   "metadata": {},
   "source": [
    "# Build seawater proximity suitablity layers for GRIDCERF\n"
   ]
  },
  {
   "cell_type": "markdown",
   "id": "c5c9ff34-eb69-45ad-ad4c-92d4953da1ea",
   "metadata": {},
   "source": [
    "The following code was used to build the seawater proximity suitability layers for GRIDCERF. GRIDCERF does not provide the source data directly due to some license restrictions related for direct redistribution of the unaltered source data.  However, the following details the provenance associated with each source dataset and how they were processed."
   ]
  },
  {
   "cell_type": "markdown",
   "id": "76e9318f-6812-4c76-9708-34881a59e8a1",
   "metadata": {},
   "source": [
    "## 1. Setup environment"
   ]
  },
  {
   "cell_type": "markdown",
   "id": "d6284f03-88a7-45cf-b051-88b970267916",
   "metadata": {},
   "source": [
    "### 1.1 Download GRIDCERF\n",
    "\n",
    "Download the GRIDCERF package if you have not yet done so from here:  https://doi.org/10.5281/zenodo.6601789.  Please extract GRIDCERF inside the `data` directory of this repository as the paths in this notebook are set to that expectation.\n"
   ]
  },
  {
   "cell_type": "markdown",
   "id": "bd8f6891-790e-4286-affd-e0580994b883",
   "metadata": {},
   "source": [
    "### 1.2 Data description\n"
   ]
  },
  {
   "cell_type": "markdown",
   "id": "95b71242-2b5b-4d8d-9383-47276dbd5cfd",
   "metadata": {},
   "source": [
    "- **Title**:  2022 TIGER/Line® Shapefiles: Coastline\n",
    "- **Description from Source**: The 2022 TIGER/Line Shapefiles contain current geographic extent and boundaries of both legal and statistical entities (which have no governmental standing) for the United States, the District of Columbia, Puerto Rico, and the Island areas. This vintage includes boundaries of governmental units that match the data from the surveys that use 2022 geography (e.g., the 2022 American Community Survey).\n",
    "- **Source URL**:  https://www2.census.gov/geo/tiger/TIGER2022/COASTLINE/tl_2022_us_coastline.zip\n",
    "- **Date Accessed**:  9/25/23\n",
    "- **Citation**\n",
    ">  US Census Bureau, 2022. TIGER/Line Shapefiles: Coastline. Geography Division, U.S. Census Bureau, https://www2.census.gov/geo/tiger/TIGER2022/COASTLINE/tl_2022_us_coastline.zip\n",
    "\n",
    "- **Application**: Thermoelectric technologies with seawater cooling type need to be located within close proximity to seawater. The GRIDCERF seawater proximity layer eliminates all areas greater than 2 km from the oceanic coastline.\n",
    "________"
   ]
  },
  {
   "cell_type": "markdown",
   "id": "5f5213ea-13b8-4cf8-8b34-a034ea7cb553",
   "metadata": {},
   "source": [
    "### 1.3 Import modules\n"
   ]
  },
  {
   "cell_type": "code",
   "execution_count": 2,
   "id": "d5b1e720-9f35-42d6-8a4b-5de6629762e1",
   "metadata": {},
   "outputs": [],
   "source": [
    "import os\n",
    "\n",
    "import geopandas as gpd\n",
    "import numpy as np\n",
    "import rasterio\n",
    "from rasterio import features"
   ]
  },
  {
   "cell_type": "markdown",
   "id": "18a8486b-7e15-47e9-8be8-99f4225cad04",
   "metadata": {},
   "source": [
    "## 2. Configuration\n"
   ]
  },
  {
   "cell_type": "code",
   "execution_count": 15,
   "id": "c31741c1-008b-4123-ba22-a0a32fce62e3",
   "metadata": {},
   "outputs": [],
   "source": [
    "# get the parent directory path to where this notebook is currently stored\n",
    "root_dir = os.path.dirname(os.getcwd())\n",
    "\n",
    "# data directory in repository\n",
    "data_dir = os.path.join(root_dir, \"data\")\n",
    "\n",
    "# GRIDCERF data directory from downloaded archive\n",
    "gridcerf_dir = os.path.join(data_dir, \"gridcerf\")\n",
    "\n",
    "# GRIDCERF reference data directory\n",
    "reference_dir = os.path.join(gridcerf_dir, \"reference\")\n",
    "\n",
    "# GRIDCERF technology_specific data directory\n",
    "technology_specific_dir = os.path.join(gridcerf_dir, \"technology_specific\")\n",
    "\n",
    "# GRIDCERF source data directory for the downloaded data\n",
    "tech_specific_dir = os.path.join(gridcerf_dir, \"source\", \"technology_specific\")\n",
    "state_waters_dir = os.path.join(tech_specific_dir,  \"offshore_state_waters\")\n",
    "\n",
    "# GRIDCERF compiled final suitability data directory\n",
    "compiled_dir = os.path.join(gridcerf_dir, \"compiled\")\n",
    "\n",
    "# template siting mask raster\n",
    "template_raster = os.path.join(reference_dir, \"gridcerf_sitingmask.tif\")\n",
    "\n",
    "# template conus mask raster\n",
    "land_mask_raster = os.path.join(reference_dir, \"gridcerf_landmask.tif\")\n",
    "\n",
    "# template conus mask raster\n",
    "conus_mask = os.path.join(reference_dir, \"gridcerf_landmask.tif\")\n",
    "\n",
    "# CONUS boundary shapefile\n",
    "conus_shpfile = os.path.join(reference_dir, \"gridcerf_conus_boundary.shp\")\n",
    "\n",
    "# state waters\n",
    "\n",
    "state_waters_shpfile = os.path.join(state_waters_dir, 'tl_2022_us_coastline', \"tl_2022_us_coastline.shp\")\n",
    "\n",
    "# output rasters\n",
    "output_coast_file = os.path.join(technology_specific_dir, \"gridcerf_seawater_proximity_2km_buffer.tif\")\n",
    "\n",
    "# factor for converting a mile to meter\n",
    "mi_to_meter = 1609.34\n",
    "\n",
    "# crs for converting projections\n",
    "crs = 'ESRI:102003'\n"
   ]
  },
  {
   "cell_type": "markdown",
   "id": "79197cd8-0c6f-4fb9-98d8-e492acd11b0e",
   "metadata": {},
   "source": [
    "## 4. Generate suitability rasters"
   ]
  },
  {
   "cell_type": "markdown",
   "id": "96e3a633-ca86-4a65-a727-8197a94f9fa6",
   "metadata": {},
   "source": [
    "### 4.1 Functions to build suitability"
   ]
  },
  {
   "cell_type": "code",
   "execution_count": 24,
   "id": "1ca619a9-3f3c-4682-b688-374f46bbc109",
   "metadata": {},
   "outputs": [],
   "source": [
    "def vector_to_raster(template_raster, land_mask_raster, gdf, value_field, output_raster):\n",
    "                     \n",
    "    # open the template raster and extract metadata and land mask\n",
    "    with rasterio.open(template_raster) as template:\n",
    "\n",
    "        metadata = template.meta.copy()\n",
    "\n",
    "        # update raster data type\n",
    "        metadata.update(dtype=np.int16)\n",
    "\n",
    "        # extract land mask\n",
    "        land_mask_file = rasterio.open(land_mask_raster)\n",
    "        land_mask = land_mask_file.read(1)\n",
    "        land_mask = np.where(land_mask == 0, np.nan, 1)\n",
    "\n",
    "        # write output raster\n",
    "        with rasterio.open(output_raster, 'w+', **metadata) as out:\n",
    "\n",
    "            out_arr = out.read(1)\n",
    "\n",
    "            # build shapes to rasterize from target geometry and field\n",
    "            shapes = ((geom, value) for geom, value in zip(gdf.geometry, gdf[value_field]))\n",
    "\n",
    "            # burn features\n",
    "            burned = features.rasterize(shapes=shapes, \n",
    "                                        fill=0, \n",
    "                                        out=out_arr, \n",
    "                                        transform=out.transform)\n",
    "            \n",
    "            burned = np.where(burned == 1, 1, 0).astype(np.float64)\n",
    "\n",
    "            # invert suitability\n",
    "            burned = np.where(burned==1, 0, 1).astype(np.float64)            \n",
    "            \n",
    "            # apply land mask\n",
    "            burned *= land_mask\n",
    "            \n",
    "            # make nan excluded\n",
    "            burned = np.where(np.isnan(burned), 1, burned)\n",
    "\n",
    "            out.write_band(1, burned.astype(np.int16))\n"
   ]
  },
  {
   "cell_type": "markdown",
   "id": "bf2b4d5f-ddd8-4364-91c0-1a7f70687eee",
   "metadata": {},
   "source": [
    "### 4.2 Generate suitability"
   ]
  },
  {
   "cell_type": "code",
   "execution_count": 6,
   "id": "049da3f8-d59c-4ffa-8906-862512a2abbe",
   "metadata": {},
   "outputs": [],
   "source": [
    "# read in GRIDCERF boundary shapefile\n",
    "bdf = gpd.read_file(conus_shpfile)"
   ]
  },
  {
   "cell_type": "code",
   "execution_count": 10,
   "id": "9191ebae-6322-4f51-b02f-b70b7248b8e9",
   "metadata": {},
   "outputs": [
    {
     "data": {
      "text/plain": [
       "<Axes: >"
      ]
     },
     "execution_count": 10,
     "metadata": {},
     "output_type": "execute_result"
    },
    {
     "data": {
      "image/png": "[encoded data removed]",
      "text/plain": [
       "<Figure size 640x480 with 1 Axes>"
      ]
     },
     "metadata": {},
     "output_type": "display_data"
    }
   ],
   "source": [
    "# read in shapefile  and project to our GRIDCERF projection\n",
    "state_water_gdf = gpd.read_file(state_waters_shpfile).to_crs(crs)\n",
    "\n",
    "# only keep areas within our GRIDCERF boundary\n",
    "state_water_gdf = gpd.clip(state_water_gdf, bdf)\n",
    "\n",
    "# keep only oceanic coastline\n",
    "state_water_gdf = state_water_gdf[state_water_gdf.NAME != 'Great Lakes']\n",
    "\n",
    "\n",
    "# add a 2000 meter buffer to coastline\n",
    "buffer = 2000\n",
    "state_water_gdf[\"geometry\"] = state_water_gdf[\"geometry\"].buffer(buffer)\n",
    "\n",
    "# add field to use for rasterization\n",
    "state_water_gdf[\"value\"] = 1\n",
    "\n",
    "state_water_gdf.plot()"
   ]
  },
  {
   "cell_type": "code",
   "execution_count": 25,
   "id": "b2eb8029-db8a-4c7c-8aa4-750239b8c9b1",
   "metadata": {},
   "outputs": [],
   "source": [
    "# generate raster\n",
    "# generate raster for inland flood risk\n",
    "vector_to_raster(template_raster=template_raster, \n",
    "                 land_mask_raster=land_mask_raster,\n",
    "                 gdf=state_water_gdf, \n",
    "                 value_field=\"value\",\n",
    "                 output_raster=output_coast_file)"
   ]
  }
 ],
 "metadata": {
  "kernelspec": {
   "display_name": "Python 3 (ipykernel)",
   "language": "python",
   "name": "python3"
  },
  "language_info": {
   "codemirror_mode": {
    "name": "ipython",
    "version": 3
   },
   "file_extension": ".py",
   "mimetype": "text/x-python",
   "name": "python",
   "nbconvert_exporter": "python",
   "pygments_lexer": "ipython3",
   "version": "3.11.0"
  }
 },
 "nbformat": 4,
 "nbformat_minor": 5
}
